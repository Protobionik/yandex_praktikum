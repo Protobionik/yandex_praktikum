{
 "cells": [
  {
   "cell_type": "markdown",
   "metadata": {},
   "source": [
    "# Проект - принятие решений в бизнесе"
   ]
  },
  {
   "cell_type": "markdown",
   "metadata": {},
   "source": [
    "**Описание проекта**\n",
    "\n",
    "Контекст\n",
    "\n",
    "*Вы — аналитик крупного интернет-магазина. Вместе с отделом маркетинга вы подготовили список гипотез для увеличения выручки.\n",
    "Приоритизируйте гипотезы, запустите A/B-тест и проанализируйте результаты.*"
   ]
  },
  {
   "cell_type": "markdown",
   "metadata": {},
   "source": [
    "# Часть 1. Приоритизация гипотез."
   ]
  },
  {
   "cell_type": "markdown",
   "metadata": {},
   "source": [
    "**В файле /datasets/hypothesis.csv 9 гипотез по увеличению выручки интернет-магазина с указанными параметрами Reach, Impact, Confidence, Effort.**\n",
    "\n",
    "**Задача:**\n",
    "\n",
    "- Примените фреймворк ICE для приоритизации гипотез. Отсортируйте их по убыванию приоритета.\n",
    "- Примените фреймворк RICE для приоритизации гипотез. Отсортируйте их по убыванию приоритета.\n",
    "- Укажите, как изменилась приоритизация гипотез при применении RICE вместо ICE. Объясните, почему так произошло."
   ]
  },
  {
   "cell_type": "markdown",
   "metadata": {},
   "source": [
    "## Знакомство с данными. "
   ]
  },
  {
   "cell_type": "code",
   "execution_count": 1,
   "metadata": {},
   "outputs": [],
   "source": [
    "import pandas as pd\n",
    "import numpy as np\n",
    "import seaborn as sns\n",
    "import datetime as dt\n",
    "import scipy.stats as stats\n",
    "from datetime import datetime, timedelta\n",
    "from matplotlib import pyplot as plt"
   ]
  },
  {
   "cell_type": "code",
   "execution_count": 2,
   "metadata": {},
   "outputs": [],
   "source": [
    "try:\n",
    "    hypothesis = pd.read_csv('/datasets/hypothesis.csv')\n",
    "    orders = pd.read_csv('/datasets/orders.csv')\n",
    "    visitors = pd.read_csv('/datasets/visitors.csv')\n",
    "except:\n",
    "    hypothesis = pd.read_csv('F:\\obuchenie\\csv\\hypothesis.csv')\n",
    "    orders = pd.read_csv('F:\\obuchenie\\csv\\orders.csv')\n",
    "    visitors = pd.read_csv('F:\\obuchenie\\csv\\visitors.csv')"
   ]
  },
  {
   "cell_type": "code",
   "execution_count": 3,
   "metadata": {},
   "outputs": [],
   "source": [
    "pd.set_option('display.max_colwidth', False) #строчки полностью отображаются"
   ]
  },
  {
   "cell_type": "code",
   "execution_count": 4,
   "metadata": {},
   "outputs": [
    {
     "data": {
      "text/html": [
       "<div>\n",
       "<style scoped>\n",
       "    .dataframe tbody tr th:only-of-type {\n",
       "        vertical-align: middle;\n",
       "    }\n",
       "\n",
       "    .dataframe tbody tr th {\n",
       "        vertical-align: top;\n",
       "    }\n",
       "\n",
       "    .dataframe thead th {\n",
       "        text-align: right;\n",
       "    }\n",
       "</style>\n",
       "<table border=\"1\" class=\"dataframe\">\n",
       "  <thead>\n",
       "    <tr style=\"text-align: right;\">\n",
       "      <th></th>\n",
       "      <th>Hypothesis</th>\n",
       "      <th>Reach</th>\n",
       "      <th>Impact</th>\n",
       "      <th>Confidence</th>\n",
       "      <th>Efforts</th>\n",
       "    </tr>\n",
       "  </thead>\n",
       "  <tbody>\n",
       "    <tr>\n",
       "      <th>0</th>\n",
       "      <td>Добавить два новых канала привлечения трафика, что позволит привлекать на 30% больше пользователей</td>\n",
       "      <td>3</td>\n",
       "      <td>10</td>\n",
       "      <td>8</td>\n",
       "      <td>6</td>\n",
       "    </tr>\n",
       "    <tr>\n",
       "      <th>1</th>\n",
       "      <td>Запустить собственную службу доставки, что сократит срок доставки заказов</td>\n",
       "      <td>2</td>\n",
       "      <td>5</td>\n",
       "      <td>4</td>\n",
       "      <td>10</td>\n",
       "    </tr>\n",
       "    <tr>\n",
       "      <th>2</th>\n",
       "      <td>Добавить блоки рекомендаций товаров на сайт интернет магазина, чтобы повысить конверсию и средний чек заказа</td>\n",
       "      <td>8</td>\n",
       "      <td>3</td>\n",
       "      <td>7</td>\n",
       "      <td>3</td>\n",
       "    </tr>\n",
       "    <tr>\n",
       "      <th>3</th>\n",
       "      <td>Изменить структура категорий, что увеличит конверсию, т.к. пользователи быстрее найдут нужный товар</td>\n",
       "      <td>8</td>\n",
       "      <td>3</td>\n",
       "      <td>3</td>\n",
       "      <td>8</td>\n",
       "    </tr>\n",
       "    <tr>\n",
       "      <th>4</th>\n",
       "      <td>Изменить цвет фона главной страницы, чтобы увеличить вовлеченность пользователей</td>\n",
       "      <td>3</td>\n",
       "      <td>1</td>\n",
       "      <td>1</td>\n",
       "      <td>1</td>\n",
       "    </tr>\n",
       "  </tbody>\n",
       "</table>\n",
       "</div>"
      ],
      "text/plain": [
       "                                                                                                     Hypothesis  \\\n",
       "0  Добавить два новых канала привлечения трафика, что позволит привлекать на 30% больше пользователей             \n",
       "1  Запустить собственную службу доставки, что сократит срок доставки заказов                                      \n",
       "2  Добавить блоки рекомендаций товаров на сайт интернет магазина, чтобы повысить конверсию и средний чек заказа   \n",
       "3  Изменить структура категорий, что увеличит конверсию, т.к. пользователи быстрее найдут нужный товар            \n",
       "4  Изменить цвет фона главной страницы, чтобы увеличить вовлеченность пользователей                               \n",
       "\n",
       "   Reach  Impact  Confidence  Efforts  \n",
       "0  3      10      8           6        \n",
       "1  2      5       4           10       \n",
       "2  8      3       7           3        \n",
       "3  8      3       3           8        \n",
       "4  3      1       1           1        "
      ]
     },
     "metadata": {},
     "output_type": "display_data"
    },
    {
     "name": "stdout",
     "output_type": "stream",
     "text": [
      "<class 'pandas.core.frame.DataFrame'>\n",
      "RangeIndex: 9 entries, 0 to 8\n",
      "Data columns (total 5 columns):\n",
      " #   Column      Non-Null Count  Dtype \n",
      "---  ------      --------------  ----- \n",
      " 0   Hypothesis  9 non-null      object\n",
      " 1   Reach       9 non-null      int64 \n",
      " 2   Impact      9 non-null      int64 \n",
      " 3   Confidence  9 non-null      int64 \n",
      " 4   Efforts     9 non-null      int64 \n",
      "dtypes: int64(4), object(1)\n",
      "memory usage: 488.0+ bytes\n",
      "None\n",
      "--------------------------------------------------\n"
     ]
    },
    {
     "data": {
      "text/html": [
       "<div>\n",
       "<style scoped>\n",
       "    .dataframe tbody tr th:only-of-type {\n",
       "        vertical-align: middle;\n",
       "    }\n",
       "\n",
       "    .dataframe tbody tr th {\n",
       "        vertical-align: top;\n",
       "    }\n",
       "\n",
       "    .dataframe thead th {\n",
       "        text-align: right;\n",
       "    }\n",
       "</style>\n",
       "<table border=\"1\" class=\"dataframe\">\n",
       "  <thead>\n",
       "    <tr style=\"text-align: right;\">\n",
       "      <th></th>\n",
       "      <th>transactionId</th>\n",
       "      <th>visitorId</th>\n",
       "      <th>date</th>\n",
       "      <th>revenue</th>\n",
       "      <th>group</th>\n",
       "    </tr>\n",
       "  </thead>\n",
       "  <tbody>\n",
       "    <tr>\n",
       "      <th>0</th>\n",
       "      <td>3667963787</td>\n",
       "      <td>3312258926</td>\n",
       "      <td>2019-08-15</td>\n",
       "      <td>1650</td>\n",
       "      <td>B</td>\n",
       "    </tr>\n",
       "    <tr>\n",
       "      <th>1</th>\n",
       "      <td>2804400009</td>\n",
       "      <td>3642806036</td>\n",
       "      <td>2019-08-15</td>\n",
       "      <td>730</td>\n",
       "      <td>B</td>\n",
       "    </tr>\n",
       "    <tr>\n",
       "      <th>2</th>\n",
       "      <td>2961555356</td>\n",
       "      <td>4069496402</td>\n",
       "      <td>2019-08-15</td>\n",
       "      <td>400</td>\n",
       "      <td>A</td>\n",
       "    </tr>\n",
       "    <tr>\n",
       "      <th>3</th>\n",
       "      <td>3797467345</td>\n",
       "      <td>1196621759</td>\n",
       "      <td>2019-08-15</td>\n",
       "      <td>9759</td>\n",
       "      <td>B</td>\n",
       "    </tr>\n",
       "    <tr>\n",
       "      <th>4</th>\n",
       "      <td>2282983706</td>\n",
       "      <td>2322279887</td>\n",
       "      <td>2019-08-15</td>\n",
       "      <td>2308</td>\n",
       "      <td>B</td>\n",
       "    </tr>\n",
       "  </tbody>\n",
       "</table>\n",
       "</div>"
      ],
      "text/plain": [
       "   transactionId   visitorId        date  revenue group\n",
       "0  3667963787     3312258926  2019-08-15  1650     B   \n",
       "1  2804400009     3642806036  2019-08-15  730      B   \n",
       "2  2961555356     4069496402  2019-08-15  400      A   \n",
       "3  3797467345     1196621759  2019-08-15  9759     B   \n",
       "4  2282983706     2322279887  2019-08-15  2308     B   "
      ]
     },
     "metadata": {},
     "output_type": "display_data"
    },
    {
     "name": "stdout",
     "output_type": "stream",
     "text": [
      "<class 'pandas.core.frame.DataFrame'>\n",
      "RangeIndex: 1197 entries, 0 to 1196\n",
      "Data columns (total 5 columns):\n",
      " #   Column         Non-Null Count  Dtype \n",
      "---  ------         --------------  ----- \n",
      " 0   transactionId  1197 non-null   int64 \n",
      " 1   visitorId      1197 non-null   int64 \n",
      " 2   date           1197 non-null   object\n",
      " 3   revenue        1197 non-null   int64 \n",
      " 4   group          1197 non-null   object\n",
      "dtypes: int64(3), object(2)\n",
      "memory usage: 46.9+ KB\n",
      "None\n",
      "--------------------------------------------------\n"
     ]
    },
    {
     "data": {
      "text/html": [
       "<div>\n",
       "<style scoped>\n",
       "    .dataframe tbody tr th:only-of-type {\n",
       "        vertical-align: middle;\n",
       "    }\n",
       "\n",
       "    .dataframe tbody tr th {\n",
       "        vertical-align: top;\n",
       "    }\n",
       "\n",
       "    .dataframe thead th {\n",
       "        text-align: right;\n",
       "    }\n",
       "</style>\n",
       "<table border=\"1\" class=\"dataframe\">\n",
       "  <thead>\n",
       "    <tr style=\"text-align: right;\">\n",
       "      <th></th>\n",
       "      <th>date</th>\n",
       "      <th>group</th>\n",
       "      <th>visitors</th>\n",
       "    </tr>\n",
       "  </thead>\n",
       "  <tbody>\n",
       "    <tr>\n",
       "      <th>0</th>\n",
       "      <td>2019-08-01</td>\n",
       "      <td>A</td>\n",
       "      <td>719</td>\n",
       "    </tr>\n",
       "    <tr>\n",
       "      <th>1</th>\n",
       "      <td>2019-08-02</td>\n",
       "      <td>A</td>\n",
       "      <td>619</td>\n",
       "    </tr>\n",
       "    <tr>\n",
       "      <th>2</th>\n",
       "      <td>2019-08-03</td>\n",
       "      <td>A</td>\n",
       "      <td>507</td>\n",
       "    </tr>\n",
       "    <tr>\n",
       "      <th>3</th>\n",
       "      <td>2019-08-04</td>\n",
       "      <td>A</td>\n",
       "      <td>717</td>\n",
       "    </tr>\n",
       "    <tr>\n",
       "      <th>4</th>\n",
       "      <td>2019-08-05</td>\n",
       "      <td>A</td>\n",
       "      <td>756</td>\n",
       "    </tr>\n",
       "  </tbody>\n",
       "</table>\n",
       "</div>"
      ],
      "text/plain": [
       "         date group  visitors\n",
       "0  2019-08-01  A     719     \n",
       "1  2019-08-02  A     619     \n",
       "2  2019-08-03  A     507     \n",
       "3  2019-08-04  A     717     \n",
       "4  2019-08-05  A     756     "
      ]
     },
     "metadata": {},
     "output_type": "display_data"
    },
    {
     "name": "stdout",
     "output_type": "stream",
     "text": [
      "<class 'pandas.core.frame.DataFrame'>\n",
      "RangeIndex: 62 entries, 0 to 61\n",
      "Data columns (total 3 columns):\n",
      " #   Column    Non-Null Count  Dtype \n",
      "---  ------    --------------  ----- \n",
      " 0   date      62 non-null     object\n",
      " 1   group     62 non-null     object\n",
      " 2   visitors  62 non-null     int64 \n",
      "dtypes: int64(1), object(2)\n",
      "memory usage: 1.6+ KB\n",
      "None\n",
      "--------------------------------------------------\n"
     ]
    }
   ],
   "source": [
    "list_ = [hypothesis, orders, visitors]\n",
    "for i in list_:\n",
    "    display(i.head())\n",
    "    print(i.info())\n",
    "    print('-'* 50)"
   ]
  },
  {
   "cell_type": "markdown",
   "metadata": {},
   "source": [
    "## Предобработка данных"
   ]
  },
  {
   "cell_type": "markdown",
   "metadata": {},
   "source": [
    "**На данном этапе нужно привести все названия столбцов к нижнему реестру а так же необходимо перевести некоторые данные к нужному типу.**"
   ]
  },
  {
   "cell_type": "code",
   "execution_count": 5,
   "metadata": {},
   "outputs": [],
   "source": [
    "hypothesis.columns = hypothesis.columns.str.lower()"
   ]
  },
  {
   "cell_type": "code",
   "execution_count": 6,
   "metadata": {},
   "outputs": [
    {
     "data": {
      "text/html": [
       "<div>\n",
       "<style scoped>\n",
       "    .dataframe tbody tr th:only-of-type {\n",
       "        vertical-align: middle;\n",
       "    }\n",
       "\n",
       "    .dataframe tbody tr th {\n",
       "        vertical-align: top;\n",
       "    }\n",
       "\n",
       "    .dataframe thead th {\n",
       "        text-align: right;\n",
       "    }\n",
       "</style>\n",
       "<table border=\"1\" class=\"dataframe\">\n",
       "  <thead>\n",
       "    <tr style=\"text-align: right;\">\n",
       "      <th></th>\n",
       "      <th>hypothesis</th>\n",
       "      <th>reach</th>\n",
       "      <th>impact</th>\n",
       "      <th>confidence</th>\n",
       "      <th>efforts</th>\n",
       "    </tr>\n",
       "  </thead>\n",
       "  <tbody>\n",
       "    <tr>\n",
       "      <th>0</th>\n",
       "      <td>Добавить два новых канала привлечения трафика, что позволит привлекать на 30% больше пользователей</td>\n",
       "      <td>3</td>\n",
       "      <td>10</td>\n",
       "      <td>8</td>\n",
       "      <td>6</td>\n",
       "    </tr>\n",
       "    <tr>\n",
       "      <th>1</th>\n",
       "      <td>Запустить собственную службу доставки, что сократит срок доставки заказов</td>\n",
       "      <td>2</td>\n",
       "      <td>5</td>\n",
       "      <td>4</td>\n",
       "      <td>10</td>\n",
       "    </tr>\n",
       "    <tr>\n",
       "      <th>2</th>\n",
       "      <td>Добавить блоки рекомендаций товаров на сайт интернет магазина, чтобы повысить конверсию и средний чек заказа</td>\n",
       "      <td>8</td>\n",
       "      <td>3</td>\n",
       "      <td>7</td>\n",
       "      <td>3</td>\n",
       "    </tr>\n",
       "    <tr>\n",
       "      <th>3</th>\n",
       "      <td>Изменить структура категорий, что увеличит конверсию, т.к. пользователи быстрее найдут нужный товар</td>\n",
       "      <td>8</td>\n",
       "      <td>3</td>\n",
       "      <td>3</td>\n",
       "      <td>8</td>\n",
       "    </tr>\n",
       "    <tr>\n",
       "      <th>4</th>\n",
       "      <td>Изменить цвет фона главной страницы, чтобы увеличить вовлеченность пользователей</td>\n",
       "      <td>3</td>\n",
       "      <td>1</td>\n",
       "      <td>1</td>\n",
       "      <td>1</td>\n",
       "    </tr>\n",
       "    <tr>\n",
       "      <th>5</th>\n",
       "      <td>Добавить страницу отзывов клиентов о магазине, что позволит увеличить количество заказов</td>\n",
       "      <td>3</td>\n",
       "      <td>2</td>\n",
       "      <td>2</td>\n",
       "      <td>3</td>\n",
       "    </tr>\n",
       "    <tr>\n",
       "      <th>6</th>\n",
       "      <td>Показать на главной странице баннеры с актуальными акциями и распродажами, чтобы увеличить конверсию</td>\n",
       "      <td>5</td>\n",
       "      <td>3</td>\n",
       "      <td>8</td>\n",
       "      <td>3</td>\n",
       "    </tr>\n",
       "    <tr>\n",
       "      <th>7</th>\n",
       "      <td>Добавить форму подписки на все основные страницы, чтобы собрать базу клиентов для email-рассылок</td>\n",
       "      <td>10</td>\n",
       "      <td>7</td>\n",
       "      <td>8</td>\n",
       "      <td>5</td>\n",
       "    </tr>\n",
       "    <tr>\n",
       "      <th>8</th>\n",
       "      <td>Запустить акцию, дающую скидку на товар в день рождения</td>\n",
       "      <td>1</td>\n",
       "      <td>9</td>\n",
       "      <td>9</td>\n",
       "      <td>5</td>\n",
       "    </tr>\n",
       "  </tbody>\n",
       "</table>\n",
       "</div>"
      ],
      "text/plain": [
       "                                                                                                     hypothesis  \\\n",
       "0  Добавить два новых канала привлечения трафика, что позволит привлекать на 30% больше пользователей             \n",
       "1  Запустить собственную службу доставки, что сократит срок доставки заказов                                      \n",
       "2  Добавить блоки рекомендаций товаров на сайт интернет магазина, чтобы повысить конверсию и средний чек заказа   \n",
       "3  Изменить структура категорий, что увеличит конверсию, т.к. пользователи быстрее найдут нужный товар            \n",
       "4  Изменить цвет фона главной страницы, чтобы увеличить вовлеченность пользователей                               \n",
       "5  Добавить страницу отзывов клиентов о магазине, что позволит увеличить количество заказов                       \n",
       "6  Показать на главной странице баннеры с актуальными акциями и распродажами, чтобы увеличить конверсию           \n",
       "7  Добавить форму подписки на все основные страницы, чтобы собрать базу клиентов для email-рассылок               \n",
       "8  Запустить акцию, дающую скидку на товар в день рождения                                                        \n",
       "\n",
       "   reach  impact  confidence  efforts  \n",
       "0  3      10      8           6        \n",
       "1  2      5       4           10       \n",
       "2  8      3       7           3        \n",
       "3  8      3       3           8        \n",
       "4  3      1       1           1        \n",
       "5  3      2       2           3        \n",
       "6  5      3       8           3        \n",
       "7  10     7       8           5        \n",
       "8  1      9       9           5        "
      ]
     },
     "execution_count": 6,
     "metadata": {},
     "output_type": "execute_result"
    }
   ],
   "source": [
    "hypothesis"
   ]
  },
  {
   "cell_type": "markdown",
   "metadata": {},
   "source": [
    "**Проверка на пропуски значений.**"
   ]
  },
  {
   "cell_type": "code",
   "execution_count": 7,
   "metadata": {},
   "outputs": [
    {
     "data": {
      "text/plain": [
       "hypothesis    0\n",
       "reach         0\n",
       "impact        0\n",
       "confidence    0\n",
       "efforts       0\n",
       "dtype: int64"
      ]
     },
     "metadata": {},
     "output_type": "display_data"
    },
    {
     "data": {
      "text/plain": [
       "transactionId    0\n",
       "visitorId        0\n",
       "date             0\n",
       "revenue          0\n",
       "group            0\n",
       "dtype: int64"
      ]
     },
     "metadata": {},
     "output_type": "display_data"
    },
    {
     "data": {
      "text/plain": [
       "date        0\n",
       "group       0\n",
       "visitors    0\n",
       "dtype: int64"
      ]
     },
     "metadata": {},
     "output_type": "display_data"
    }
   ],
   "source": [
    "list_ = [hypothesis, orders, visitors]\n",
    "for i in list_:\n",
    "    display(i.isnull().sum())"
   ]
  },
  {
   "cell_type": "markdown",
   "metadata": {},
   "source": [
    "**Пропусков в данных нет.**"
   ]
  },
  {
   "cell_type": "markdown",
   "metadata": {},
   "source": [
    "**Проверим на наличие дубликатов.**"
   ]
  },
  {
   "cell_type": "code",
   "execution_count": 8,
   "metadata": {},
   "outputs": [
    {
     "data": {
      "text/plain": [
       "0"
      ]
     },
     "metadata": {},
     "output_type": "display_data"
    },
    {
     "data": {
      "text/plain": [
       "0"
      ]
     },
     "metadata": {},
     "output_type": "display_data"
    },
    {
     "data": {
      "text/plain": [
       "0"
      ]
     },
     "metadata": {},
     "output_type": "display_data"
    }
   ],
   "source": [
    "list_ = [hypothesis, orders, visitors]\n",
    "for i in list_:\n",
    "    display(i.duplicated().sum())"
   ]
  },
  {
   "cell_type": "markdown",
   "metadata": {},
   "source": [
    "**В данных нет дубликатов.**"
   ]
  },
  {
   "cell_type": "markdown",
   "metadata": {},
   "source": [
    "**Данные с датами необходимо привести в нужный формат.**"
   ]
  },
  {
   "cell_type": "code",
   "execution_count": 9,
   "metadata": {},
   "outputs": [],
   "source": [
    "orders['date'] = pd.to_datetime(orders['date'])\n",
    "visitors['date'] = pd.to_datetime(visitors['date'])"
   ]
  },
  {
   "cell_type": "code",
   "execution_count": 10,
   "metadata": {},
   "outputs": [
    {
     "name": "stdout",
     "output_type": "stream",
     "text": [
      "<class 'pandas.core.frame.DataFrame'>\n",
      "RangeIndex: 1197 entries, 0 to 1196\n",
      "Data columns (total 5 columns):\n",
      " #   Column         Non-Null Count  Dtype         \n",
      "---  ------         --------------  -----         \n",
      " 0   transactionId  1197 non-null   int64         \n",
      " 1   visitorId      1197 non-null   int64         \n",
      " 2   date           1197 non-null   datetime64[ns]\n",
      " 3   revenue        1197 non-null   int64         \n",
      " 4   group          1197 non-null   object        \n",
      "dtypes: datetime64[ns](1), int64(3), object(1)\n",
      "memory usage: 46.9+ KB\n"
     ]
    },
    {
     "data": {
      "text/plain": [
       "None"
      ]
     },
     "metadata": {},
     "output_type": "display_data"
    },
    {
     "name": "stdout",
     "output_type": "stream",
     "text": [
      "<class 'pandas.core.frame.DataFrame'>\n",
      "RangeIndex: 62 entries, 0 to 61\n",
      "Data columns (total 3 columns):\n",
      " #   Column    Non-Null Count  Dtype         \n",
      "---  ------    --------------  -----         \n",
      " 0   date      62 non-null     datetime64[ns]\n",
      " 1   group     62 non-null     object        \n",
      " 2   visitors  62 non-null     int64         \n",
      "dtypes: datetime64[ns](1), int64(1), object(1)\n",
      "memory usage: 1.6+ KB\n"
     ]
    },
    {
     "data": {
      "text/plain": [
       "None"
      ]
     },
     "metadata": {},
     "output_type": "display_data"
    }
   ],
   "source": [
    "display(orders.info())\n",
    "display(visitors.info())"
   ]
  },
  {
   "cell_type": "code",
   "execution_count": 11,
   "metadata": {},
   "outputs": [
    {
     "name": "stdout",
     "output_type": "stream",
     "text": [
      "  group  visitors\n",
      "0  A     18736   \n",
      "1  B     18916   \n",
      "\n",
      "В данных две группы А и В\n",
      "\n",
      "Разница между группами составляет: 0.95 %\n"
     ]
    }
   ],
   "source": [
    "table = visitors.groupby('group', as_index=False).agg({'visitors': 'sum'})\n",
    "\n",
    "print(table)\n",
    "\n",
    "difference = round(100 - (table.loc[0, 'visitors'] / table.loc[1, 'visitors']*100), 2)\n",
    "print()\n",
    "print(\"В данных две группы А и В\")\n",
    "print()\n",
    "print(f'Разница между группами составляет: {difference} %')\n",
    "#нужно помнить о 80/20 и закончить основное, вернусь как сделаю обязательное"
   ]
  },
  {
   "cell_type": "markdown",
   "metadata": {},
   "source": [
    "**Данные обработаны, можно приступать к первому заданию.**"
   ]
  },
  {
   "cell_type": "markdown",
   "metadata": {},
   "source": [
    "**В файле /datasets/hypothesis.csv 9 гипотез по увеличению выручки интернет-магазина с указанными параметрами Reach, Impact, Confidence, Effort.**\n",
    "\n",
    "**Задача:**\n",
    "\n",
    "- [x] Примените фреймворк ICE для приоритизации гипотез. Отсортируйте их по убыванию приоритета.\n",
    "- [x] Примените фреймворк RICE для приоритизации гипотез. Отсортируйте их по убыванию приоритета.\n",
    "- [x] Укажите, как изменилась приоритизация гипотез при применении RICE вместо ICE. Объясните, почему так произошло."
   ]
  },
  {
   "cell_type": "markdown",
   "metadata": {},
   "source": [
    "**Посмотрим на сами гипотезы.**"
   ]
  },
  {
   "cell_type": "code",
   "execution_count": 12,
   "metadata": {},
   "outputs": [
    {
     "data": {
      "text/plain": [
       "array(['Добавить два новых канала привлечения трафика, что позволит привлекать на 30% больше пользователей',\n",
       "       'Запустить собственную службу доставки, что сократит срок доставки заказов',\n",
       "       'Добавить блоки рекомендаций товаров на сайт интернет магазина, чтобы повысить конверсию и средний чек заказа',\n",
       "       'Изменить структура категорий, что увеличит конверсию, т.к. пользователи быстрее найдут нужный товар',\n",
       "       'Изменить цвет фона главной страницы, чтобы увеличить вовлеченность пользователей',\n",
       "       'Добавить страницу отзывов клиентов о магазине, что позволит увеличить количество заказов',\n",
       "       'Показать на главной странице баннеры с актуальными акциями и распродажами, чтобы увеличить конверсию',\n",
       "       'Добавить форму подписки на все основные страницы, чтобы собрать базу клиентов для email-рассылок',\n",
       "       'Запустить акцию, дающую скидку на товар в день рождения'],\n",
       "      dtype=object)"
      ]
     },
     "metadata": {},
     "output_type": "display_data"
    }
   ],
   "source": [
    "display(hypothesis['hypothesis'].unique())"
   ]
  },
  {
   "cell_type": "markdown",
   "metadata": {},
   "source": [
    "## Методы приоритизации гипотез ICE и RICE."
   ]
  },
  {
   "cell_type": "code",
   "execution_count": 13,
   "metadata": {},
   "outputs": [
    {
     "data": {
      "text/html": [
       "<div>\n",
       "<style scoped>\n",
       "    .dataframe tbody tr th:only-of-type {\n",
       "        vertical-align: middle;\n",
       "    }\n",
       "\n",
       "    .dataframe tbody tr th {\n",
       "        vertical-align: top;\n",
       "    }\n",
       "\n",
       "    .dataframe thead th {\n",
       "        text-align: right;\n",
       "    }\n",
       "</style>\n",
       "<table border=\"1\" class=\"dataframe\">\n",
       "  <thead>\n",
       "    <tr style=\"text-align: right;\">\n",
       "      <th></th>\n",
       "      <th>hypothesis</th>\n",
       "      <th>reach</th>\n",
       "      <th>impact</th>\n",
       "      <th>confidence</th>\n",
       "      <th>efforts</th>\n",
       "    </tr>\n",
       "  </thead>\n",
       "  <tbody>\n",
       "    <tr>\n",
       "      <th>0</th>\n",
       "      <td>Добавить два новых канала привлечения трафика, что позволит привлекать на 30% больше пользователей</td>\n",
       "      <td>3</td>\n",
       "      <td>10</td>\n",
       "      <td>8</td>\n",
       "      <td>6</td>\n",
       "    </tr>\n",
       "    <tr>\n",
       "      <th>1</th>\n",
       "      <td>Запустить собственную службу доставки, что сократит срок доставки заказов</td>\n",
       "      <td>2</td>\n",
       "      <td>5</td>\n",
       "      <td>4</td>\n",
       "      <td>10</td>\n",
       "    </tr>\n",
       "    <tr>\n",
       "      <th>2</th>\n",
       "      <td>Добавить блоки рекомендаций товаров на сайт интернет магазина, чтобы повысить конверсию и средний чек заказа</td>\n",
       "      <td>8</td>\n",
       "      <td>3</td>\n",
       "      <td>7</td>\n",
       "      <td>3</td>\n",
       "    </tr>\n",
       "    <tr>\n",
       "      <th>3</th>\n",
       "      <td>Изменить структура категорий, что увеличит конверсию, т.к. пользователи быстрее найдут нужный товар</td>\n",
       "      <td>8</td>\n",
       "      <td>3</td>\n",
       "      <td>3</td>\n",
       "      <td>8</td>\n",
       "    </tr>\n",
       "    <tr>\n",
       "      <th>4</th>\n",
       "      <td>Изменить цвет фона главной страницы, чтобы увеличить вовлеченность пользователей</td>\n",
       "      <td>3</td>\n",
       "      <td>1</td>\n",
       "      <td>1</td>\n",
       "      <td>1</td>\n",
       "    </tr>\n",
       "    <tr>\n",
       "      <th>5</th>\n",
       "      <td>Добавить страницу отзывов клиентов о магазине, что позволит увеличить количество заказов</td>\n",
       "      <td>3</td>\n",
       "      <td>2</td>\n",
       "      <td>2</td>\n",
       "      <td>3</td>\n",
       "    </tr>\n",
       "    <tr>\n",
       "      <th>6</th>\n",
       "      <td>Показать на главной странице баннеры с актуальными акциями и распродажами, чтобы увеличить конверсию</td>\n",
       "      <td>5</td>\n",
       "      <td>3</td>\n",
       "      <td>8</td>\n",
       "      <td>3</td>\n",
       "    </tr>\n",
       "    <tr>\n",
       "      <th>7</th>\n",
       "      <td>Добавить форму подписки на все основные страницы, чтобы собрать базу клиентов для email-рассылок</td>\n",
       "      <td>10</td>\n",
       "      <td>7</td>\n",
       "      <td>8</td>\n",
       "      <td>5</td>\n",
       "    </tr>\n",
       "    <tr>\n",
       "      <th>8</th>\n",
       "      <td>Запустить акцию, дающую скидку на товар в день рождения</td>\n",
       "      <td>1</td>\n",
       "      <td>9</td>\n",
       "      <td>9</td>\n",
       "      <td>5</td>\n",
       "    </tr>\n",
       "  </tbody>\n",
       "</table>\n",
       "</div>"
      ],
      "text/plain": [
       "                                                                                                     hypothesis  \\\n",
       "0  Добавить два новых канала привлечения трафика, что позволит привлекать на 30% больше пользователей             \n",
       "1  Запустить собственную службу доставки, что сократит срок доставки заказов                                      \n",
       "2  Добавить блоки рекомендаций товаров на сайт интернет магазина, чтобы повысить конверсию и средний чек заказа   \n",
       "3  Изменить структура категорий, что увеличит конверсию, т.к. пользователи быстрее найдут нужный товар            \n",
       "4  Изменить цвет фона главной страницы, чтобы увеличить вовлеченность пользователей                               \n",
       "5  Добавить страницу отзывов клиентов о магазине, что позволит увеличить количество заказов                       \n",
       "6  Показать на главной странице баннеры с актуальными акциями и распродажами, чтобы увеличить конверсию           \n",
       "7  Добавить форму подписки на все основные страницы, чтобы собрать базу клиентов для email-рассылок               \n",
       "8  Запустить акцию, дающую скидку на товар в день рождения                                                        \n",
       "\n",
       "   reach  impact  confidence  efforts  \n",
       "0  3      10      8           6        \n",
       "1  2      5       4           10       \n",
       "2  8      3       7           3        \n",
       "3  8      3       3           8        \n",
       "4  3      1       1           1        \n",
       "5  3      2       2           3        \n",
       "6  5      3       8           3        \n",
       "7  10     7       8           5        \n",
       "8  1      9       9           5        "
      ]
     },
     "execution_count": 13,
     "metadata": {},
     "output_type": "execute_result"
    }
   ],
   "source": [
    "hypothesis"
   ]
  },
  {
   "cell_type": "markdown",
   "metadata": {},
   "source": [
    "**Вспомним что фреймворк RICE состоит из четырёх компонент:**\n",
    "- Reach — скольких пользователей затронет изменение, которое вы хотите внести;\n",
    "- Impact — насколько сильно изменение повлияет на пользователей, их опыт и удовлетворение от продукта;\n",
    "- Confidence — насколько вы уверены, что это изменение повлияет на пользователей именно так; \n",
    "- Efforts — сколько стоит протестировать эту гипотезу. "
   ]
  },
  {
   "cell_type": "code",
   "execution_count": 14,
   "metadata": {
    "scrolled": false
   },
   "outputs": [
    {
     "name": "stdout",
     "output_type": "stream",
     "text": [
      "                                                                                                     hypothesis  \\\n",
      "8  Запустить акцию, дающую скидку на товар в день рождения                                                        \n",
      "0  Добавить два новых канала привлечения трафика, что позволит привлекать на 30% больше пользователей             \n",
      "7  Добавить форму подписки на все основные страницы, чтобы собрать базу клиентов для email-рассылок               \n",
      "6  Показать на главной странице баннеры с актуальными акциями и распродажами, чтобы увеличить конверсию           \n",
      "2  Добавить блоки рекомендаций товаров на сайт интернет магазина, чтобы повысить конверсию и средний чек заказа   \n",
      "1  Запустить собственную службу доставки, что сократит срок доставки заказов                                      \n",
      "5  Добавить страницу отзывов клиентов о магазине, что позволит увеличить количество заказов                       \n",
      "3  Изменить структура категорий, что увеличит конверсию, т.к. пользователи быстрее найдут нужный товар            \n",
      "4  Изменить цвет фона главной страницы, чтобы увеличить вовлеченность пользователей                               \n",
      "\n",
      "     ICE  \n",
      "8  16.20  \n",
      "0  13.33  \n",
      "7  11.20  \n",
      "6  8.00   \n",
      "2  7.00   \n",
      "1  2.00   \n",
      "5  1.33   \n",
      "3  1.12   \n",
      "4  1.00   \n"
     ]
    }
   ],
   "source": [
    "hypothesis['ICE'] = hypothesis['impact'] * hypothesis['confidence'] / hypothesis['efforts']\n",
    "print(round(hypothesis[['hypothesis', 'ICE']].sort_values(by='ICE', ascending=False), 2))"
   ]
  },
  {
   "cell_type": "code",
   "execution_count": 15,
   "metadata": {},
   "outputs": [
    {
     "name": "stdout",
     "output_type": "stream",
     "text": [
      "                                                                                                     hypothesis  \\\n",
      "7  Добавить форму подписки на все основные страницы, чтобы собрать базу клиентов для email-рассылок               \n",
      "2  Добавить блоки рекомендаций товаров на сайт интернет магазина, чтобы повысить конверсию и средний чек заказа   \n",
      "0  Добавить два новых канала привлечения трафика, что позволит привлекать на 30% больше пользователей             \n",
      "6  Показать на главной странице баннеры с актуальными акциями и распродажами, чтобы увеличить конверсию           \n",
      "8  Запустить акцию, дающую скидку на товар в день рождения                                                        \n",
      "3  Изменить структура категорий, что увеличит конверсию, т.к. пользователи быстрее найдут нужный товар            \n",
      "1  Запустить собственную службу доставки, что сократит срок доставки заказов                                      \n",
      "5  Добавить страницу отзывов клиентов о магазине, что позволит увеличить количество заказов                       \n",
      "4  Изменить цвет фона главной страницы, чтобы увеличить вовлеченность пользователей                               \n",
      "\n",
      "    RICE  \n",
      "7  112.0  \n",
      "2  56.0   \n",
      "0  40.0   \n",
      "6  40.0   \n",
      "8  16.2   \n",
      "3  9.0    \n",
      "1  4.0    \n",
      "5  4.0    \n",
      "4  3.0    \n"
     ]
    }
   ],
   "source": [
    "hypothesis['RICE'] = hypothesis['reach'] * hypothesis['impact'] * hypothesis['confidence'] / hypothesis['efforts']\n",
    "print(hypothesis[['hypothesis', 'RICE']].sort_values(by='RICE', ascending=False))"
   ]
  },
  {
   "cell_type": "markdown",
   "metadata": {},
   "source": [
    "**Видно что изменились приоритеты в порядке гипотез после применения метода RICE, т.к. в числителе появился важный параметр Reach, который учитывает на какое кол-во пользователей повлияет гипотеза. После применения метода заметим что основные приоритеты поменялись:**"
   ]
  },
  {
   "cell_type": "code",
   "execution_count": 16,
   "metadata": {
    "scrolled": true
   },
   "outputs": [
    {
     "name": "stdout",
     "output_type": "stream",
     "text": [
      "Приоритет гипотез методом ICE:\n",
      "['Запустить акцию, дающую скидку на товар в день рождения'\n",
      " 'Добавить два новых канала привлечения трафика, что позволит привлекать на 30% больше пользователей'\n",
      " 'Добавить форму подписки на все основные страницы, чтобы собрать базу клиентов для email-рассылок']\n"
     ]
    }
   ],
   "source": [
    "rating_ice = hypothesis[['hypothesis', 'ICE']].sort_values(by='ICE', ascending=False)\n",
    "rating_ice = rating_ice['hypothesis'].head(3).unique()\n",
    "print('Приоритет гипотез методом ICE:')\n",
    "print(rating_ice)"
   ]
  },
  {
   "cell_type": "code",
   "execution_count": 17,
   "metadata": {},
   "outputs": [
    {
     "name": "stdout",
     "output_type": "stream",
     "text": [
      "Приоритет гипотез методом RICE:\n",
      "['Добавить форму подписки на все основные страницы, чтобы собрать базу клиентов для email-рассылок'\n",
      " 'Добавить блоки рекомендаций товаров на сайт интернет магазина, чтобы повысить конверсию и средний чек заказа'\n",
      " 'Добавить два новых канала привлечения трафика, что позволит привлекать на 30% больше пользователей'\n",
      " 'Показать на главной странице баннеры с актуальными акциями и распродажами, чтобы увеличить конверсию']\n"
     ]
    }
   ],
   "source": [
    "rating_rice = hypothesis[['hypothesis', 'RICE']].sort_values(by='RICE', ascending=False)\n",
    "rating_rice = rating_rice['hypothesis'].head(4).unique()\n",
    "print('Приоритет гипотез методом RICE:')\n",
    "print(rating_rice)"
   ]
  },
  {
   "cell_type": "markdown",
   "metadata": {},
   "source": [
    "**Применив метод ICE топовых гипотез было 3, но использовав метод RICE топ гипотез стало 4 и они изменились в зависимости от влияния на количество пользователей.**"
   ]
  },
  {
   "cell_type": "markdown",
   "metadata": {},
   "source": [
    "# Часть 2. Анализ A/B-теста"
   ]
  },
  {
   "cell_type": "markdown",
   "metadata": {},
   "source": [
    "**Вы провели A/B-тест и получили результаты, которые описаны в файлах /datasets/orders.csv и /datasets/visitors.csv.**\n",
    "\n",
    "**Задача**\n",
    "\n",
    "**Проанализируйте A/B-тест:**\n",
    "\n",
    "- [x] Постройте график кумулятивной выручки по группам. Сделайте выводы и предположения.\n",
    "- [x] Постройте график кумулятивного среднего чека по группам. Сделайте выводы и предположения.\n",
    "- [x] Постройте график относительного изменения кумулятивного среднего чека группы B к группе A. Сделайте выводы и предположения.\n",
    "- [x] Постройте график кумулятивного среднего количества заказов на посетителя по группам. Сделайте выводы и предположения.\n",
    "- [x] Постройте график относительного изменения кумулятивного среднего количества заказов на посетителя группы B к группе A. Сделайте выводы и предположения.\n",
    "- [x] Постройте точечный график количества заказов по пользователям. Сделайте выводы и предположения.\n",
    "- [x] Посчитайте 95-й и 99-й перцентили количества заказов на пользователя. Выберите границу для определения аномальных пользователей.\n",
    "- [x] Постройте точечный график стоимостей заказов. Сделайте выводы и предположения.\n",
    "- [x] Посчитайте 95-й и 99-й перцентили стоимости заказов. Выберите границу для определения аномальных заказов.\n",
    "- [x] Посчитайте статистическую значимость различий в среднем количестве заказов на посетителя между группами по «сырым» данным. Сделайте выводы и предположения.\n",
    "- [x] Посчитайте статистическую значимость различий в среднем чеке заказа между группами по «сырым» данным. Сделайте выводы и предположения.\n",
    "- [x] Посчитайте статистическую значимость различий в среднем количестве заказов на посетителя между группами по «очищенным» данным. Сделайте выводы и предположения.\n",
    "- [x] Посчитайте статистическую значимость различий в среднем чеке заказа между группами по «очищенным» данным. Сделайте выводы и предположения.\n",
    "- [x] Примите решение по результатам теста и объясните его. \n",
    "   Варианты решений:\n",
    "    1. Остановить тест, зафиксировать победу одной из групп.\n",
    "    2. Остановить тест, зафиксировать отсутствие различий между группами.\n",
    "    3. Продолжить тест."
   ]
  },
  {
   "cell_type": "markdown",
   "metadata": {},
   "source": [
    "### График кумулятивной выручки по группам."
   ]
  },
  {
   "cell_type": "code",
   "execution_count": 18,
   "metadata": {},
   "outputs": [],
   "source": [
    "# создаем массив уникальных пар значений дат и групп теста\n",
    "datesGroups = orders[['date','group']].drop_duplicates() "
   ]
  },
  {
   "cell_type": "code",
   "execution_count": 19,
   "metadata": {},
   "outputs": [
    {
     "data": {
      "text/html": [
       "<div>\n",
       "<style scoped>\n",
       "    .dataframe tbody tr th:only-of-type {\n",
       "        vertical-align: middle;\n",
       "    }\n",
       "\n",
       "    .dataframe tbody tr th {\n",
       "        vertical-align: top;\n",
       "    }\n",
       "\n",
       "    .dataframe thead th {\n",
       "        text-align: right;\n",
       "    }\n",
       "</style>\n",
       "<table border=\"1\" class=\"dataframe\">\n",
       "  <thead>\n",
       "    <tr style=\"text-align: right;\">\n",
       "      <th></th>\n",
       "      <th>date</th>\n",
       "      <th>group</th>\n",
       "    </tr>\n",
       "  </thead>\n",
       "  <tbody>\n",
       "    <tr>\n",
       "      <th>0</th>\n",
       "      <td>2019-08-15</td>\n",
       "      <td>B</td>\n",
       "    </tr>\n",
       "    <tr>\n",
       "      <th>2</th>\n",
       "      <td>2019-08-15</td>\n",
       "      <td>A</td>\n",
       "    </tr>\n",
       "    <tr>\n",
       "      <th>45</th>\n",
       "      <td>2019-08-16</td>\n",
       "      <td>A</td>\n",
       "    </tr>\n",
       "    <tr>\n",
       "      <th>47</th>\n",
       "      <td>2019-08-16</td>\n",
       "      <td>B</td>\n",
       "    </tr>\n",
       "    <tr>\n",
       "      <th>55</th>\n",
       "      <td>2019-08-01</td>\n",
       "      <td>A</td>\n",
       "    </tr>\n",
       "    <tr>\n",
       "      <th>...</th>\n",
       "      <td>...</td>\n",
       "      <td>...</td>\n",
       "    </tr>\n",
       "    <tr>\n",
       "      <th>1068</th>\n",
       "      <td>2019-08-12</td>\n",
       "      <td>A</td>\n",
       "    </tr>\n",
       "    <tr>\n",
       "      <th>1114</th>\n",
       "      <td>2019-08-13</td>\n",
       "      <td>B</td>\n",
       "    </tr>\n",
       "    <tr>\n",
       "      <th>1116</th>\n",
       "      <td>2019-08-13</td>\n",
       "      <td>A</td>\n",
       "    </tr>\n",
       "    <tr>\n",
       "      <th>1149</th>\n",
       "      <td>2019-08-14</td>\n",
       "      <td>B</td>\n",
       "    </tr>\n",
       "    <tr>\n",
       "      <th>1150</th>\n",
       "      <td>2019-08-14</td>\n",
       "      <td>A</td>\n",
       "    </tr>\n",
       "  </tbody>\n",
       "</table>\n",
       "<p>62 rows × 2 columns</p>\n",
       "</div>"
      ],
      "text/plain": [
       "           date group\n",
       "0    2019-08-15  B   \n",
       "2    2019-08-15  A   \n",
       "45   2019-08-16  A   \n",
       "47   2019-08-16  B   \n",
       "55   2019-08-01  A   \n",
       "...         ... ..   \n",
       "1068 2019-08-12  A   \n",
       "1114 2019-08-13  B   \n",
       "1116 2019-08-13  A   \n",
       "1149 2019-08-14  B   \n",
       "1150 2019-08-14  A   \n",
       "\n",
       "[62 rows x 2 columns]"
      ]
     },
     "execution_count": 19,
     "metadata": {},
     "output_type": "execute_result"
    }
   ],
   "source": [
    "datesGroups"
   ]
  },
  {
   "cell_type": "code",
   "execution_count": 20,
   "metadata": {},
   "outputs": [],
   "source": [
    "#Агрегируем значения.\n",
    "ordersAggregated = datesGroups.apply(lambda x: orders[np.logical_and(orders['date'] <= x['date'], orders['group'] == x['group'])]\\\n",
    ".agg({'date' : 'max', 'group' : 'max', 'transactionId' : 'nunique', 'visitorId' : 'nunique', 'revenue' : 'sum'}), axis=1).sort_values(by=['date','group'])"
   ]
  },
  {
   "cell_type": "code",
   "execution_count": 21,
   "metadata": {},
   "outputs": [
    {
     "data": {
      "text/html": [
       "<div>\n",
       "<style scoped>\n",
       "    .dataframe tbody tr th:only-of-type {\n",
       "        vertical-align: middle;\n",
       "    }\n",
       "\n",
       "    .dataframe tbody tr th {\n",
       "        vertical-align: top;\n",
       "    }\n",
       "\n",
       "    .dataframe thead th {\n",
       "        text-align: right;\n",
       "    }\n",
       "</style>\n",
       "<table border=\"1\" class=\"dataframe\">\n",
       "  <thead>\n",
       "    <tr style=\"text-align: right;\">\n",
       "      <th></th>\n",
       "      <th>date</th>\n",
       "      <th>group</th>\n",
       "      <th>transactionId</th>\n",
       "      <th>visitorId</th>\n",
       "      <th>revenue</th>\n",
       "    </tr>\n",
       "  </thead>\n",
       "  <tbody>\n",
       "    <tr>\n",
       "      <th>55</th>\n",
       "      <td>2019-08-01</td>\n",
       "      <td>A</td>\n",
       "      <td>24</td>\n",
       "      <td>20</td>\n",
       "      <td>148579</td>\n",
       "    </tr>\n",
       "    <tr>\n",
       "      <th>66</th>\n",
       "      <td>2019-08-01</td>\n",
       "      <td>B</td>\n",
       "      <td>21</td>\n",
       "      <td>20</td>\n",
       "      <td>101217</td>\n",
       "    </tr>\n",
       "    <tr>\n",
       "      <th>175</th>\n",
       "      <td>2019-08-02</td>\n",
       "      <td>A</td>\n",
       "      <td>44</td>\n",
       "      <td>38</td>\n",
       "      <td>242401</td>\n",
       "    </tr>\n",
       "    <tr>\n",
       "      <th>173</th>\n",
       "      <td>2019-08-02</td>\n",
       "      <td>B</td>\n",
       "      <td>45</td>\n",
       "      <td>43</td>\n",
       "      <td>266748</td>\n",
       "    </tr>\n",
       "    <tr>\n",
       "      <th>291</th>\n",
       "      <td>2019-08-03</td>\n",
       "      <td>A</td>\n",
       "      <td>68</td>\n",
       "      <td>62</td>\n",
       "      <td>354874</td>\n",
       "    </tr>\n",
       "    <tr>\n",
       "      <th>...</th>\n",
       "      <td>...</td>\n",
       "      <td>...</td>\n",
       "      <td>...</td>\n",
       "      <td>...</td>\n",
       "      <td>...</td>\n",
       "    </tr>\n",
       "    <tr>\n",
       "      <th>496</th>\n",
       "      <td>2019-08-29</td>\n",
       "      <td>B</td>\n",
       "      <td>596</td>\n",
       "      <td>544</td>\n",
       "      <td>5559398</td>\n",
       "    </tr>\n",
       "    <tr>\n",
       "      <th>730</th>\n",
       "      <td>2019-08-30</td>\n",
       "      <td>A</td>\n",
       "      <td>545</td>\n",
       "      <td>493</td>\n",
       "      <td>4022970</td>\n",
       "    </tr>\n",
       "    <tr>\n",
       "      <th>690</th>\n",
       "      <td>2019-08-30</td>\n",
       "      <td>B</td>\n",
       "      <td>620</td>\n",
       "      <td>567</td>\n",
       "      <td>5774631</td>\n",
       "    </tr>\n",
       "    <tr>\n",
       "      <th>958</th>\n",
       "      <td>2019-08-31</td>\n",
       "      <td>A</td>\n",
       "      <td>557</td>\n",
       "      <td>503</td>\n",
       "      <td>4084803</td>\n",
       "    </tr>\n",
       "    <tr>\n",
       "      <th>930</th>\n",
       "      <td>2019-08-31</td>\n",
       "      <td>B</td>\n",
       "      <td>640</td>\n",
       "      <td>586</td>\n",
       "      <td>5907760</td>\n",
       "    </tr>\n",
       "  </tbody>\n",
       "</table>\n",
       "<p>62 rows × 5 columns</p>\n",
       "</div>"
      ],
      "text/plain": [
       "          date group  transactionId  visitorId  revenue\n",
       "55  2019-08-01  A     24             20         148579 \n",
       "66  2019-08-01  B     21             20         101217 \n",
       "175 2019-08-02  A     44             38         242401 \n",
       "173 2019-08-02  B     45             43         266748 \n",
       "291 2019-08-03  A     68             62         354874 \n",
       "..         ... ..     ..             ..            ... \n",
       "496 2019-08-29  B     596            544        5559398\n",
       "730 2019-08-30  A     545            493        4022970\n",
       "690 2019-08-30  B     620            567        5774631\n",
       "958 2019-08-31  A     557            503        4084803\n",
       "930 2019-08-31  B     640            586        5907760\n",
       "\n",
       "[62 rows x 5 columns]"
      ]
     },
     "execution_count": 21,
     "metadata": {},
     "output_type": "execute_result"
    }
   ],
   "source": [
    "ordersAggregated"
   ]
  },
  {
   "cell_type": "code",
   "execution_count": 22,
   "metadata": {},
   "outputs": [],
   "source": [
    "#Получим агрегированные кумулятивные по дням данные о посетителях интернет-магазина\n",
    "visitorsAggregated = datesGroups.apply(lambda x: visitors[np.logical_and(visitors['date'] <= x['date'], visitors['group'] == x['group'])].agg({'date' : 'max', 'group' : 'max', 'visitors' : 'sum'}), axis=1).sort_values(by=['date','group'])"
   ]
  },
  {
   "cell_type": "code",
   "execution_count": 23,
   "metadata": {},
   "outputs": [
    {
     "data": {
      "text/html": [
       "<div>\n",
       "<style scoped>\n",
       "    .dataframe tbody tr th:only-of-type {\n",
       "        vertical-align: middle;\n",
       "    }\n",
       "\n",
       "    .dataframe tbody tr th {\n",
       "        vertical-align: top;\n",
       "    }\n",
       "\n",
       "    .dataframe thead th {\n",
       "        text-align: right;\n",
       "    }\n",
       "</style>\n",
       "<table border=\"1\" class=\"dataframe\">\n",
       "  <thead>\n",
       "    <tr style=\"text-align: right;\">\n",
       "      <th></th>\n",
       "      <th>date</th>\n",
       "      <th>group</th>\n",
       "      <th>visitors</th>\n",
       "    </tr>\n",
       "  </thead>\n",
       "  <tbody>\n",
       "    <tr>\n",
       "      <th>55</th>\n",
       "      <td>2019-08-01</td>\n",
       "      <td>A</td>\n",
       "      <td>719</td>\n",
       "    </tr>\n",
       "    <tr>\n",
       "      <th>66</th>\n",
       "      <td>2019-08-01</td>\n",
       "      <td>B</td>\n",
       "      <td>713</td>\n",
       "    </tr>\n",
       "    <tr>\n",
       "      <th>175</th>\n",
       "      <td>2019-08-02</td>\n",
       "      <td>A</td>\n",
       "      <td>1338</td>\n",
       "    </tr>\n",
       "    <tr>\n",
       "      <th>173</th>\n",
       "      <td>2019-08-02</td>\n",
       "      <td>B</td>\n",
       "      <td>1294</td>\n",
       "    </tr>\n",
       "    <tr>\n",
       "      <th>291</th>\n",
       "      <td>2019-08-03</td>\n",
       "      <td>A</td>\n",
       "      <td>1845</td>\n",
       "    </tr>\n",
       "    <tr>\n",
       "      <th>...</th>\n",
       "      <td>...</td>\n",
       "      <td>...</td>\n",
       "      <td>...</td>\n",
       "    </tr>\n",
       "    <tr>\n",
       "      <th>496</th>\n",
       "      <td>2019-08-29</td>\n",
       "      <td>B</td>\n",
       "      <td>17708</td>\n",
       "    </tr>\n",
       "    <tr>\n",
       "      <th>730</th>\n",
       "      <td>2019-08-30</td>\n",
       "      <td>A</td>\n",
       "      <td>18037</td>\n",
       "    </tr>\n",
       "    <tr>\n",
       "      <th>690</th>\n",
       "      <td>2019-08-30</td>\n",
       "      <td>B</td>\n",
       "      <td>18198</td>\n",
       "    </tr>\n",
       "    <tr>\n",
       "      <th>958</th>\n",
       "      <td>2019-08-31</td>\n",
       "      <td>A</td>\n",
       "      <td>18736</td>\n",
       "    </tr>\n",
       "    <tr>\n",
       "      <th>930</th>\n",
       "      <td>2019-08-31</td>\n",
       "      <td>B</td>\n",
       "      <td>18916</td>\n",
       "    </tr>\n",
       "  </tbody>\n",
       "</table>\n",
       "<p>62 rows × 3 columns</p>\n",
       "</div>"
      ],
      "text/plain": [
       "          date group  visitors\n",
       "55  2019-08-01  A     719     \n",
       "66  2019-08-01  B     713     \n",
       "175 2019-08-02  A     1338    \n",
       "173 2019-08-02  B     1294    \n",
       "291 2019-08-03  A     1845    \n",
       "..         ... ..      ...    \n",
       "496 2019-08-29  B     17708   \n",
       "730 2019-08-30  A     18037   \n",
       "690 2019-08-30  B     18198   \n",
       "958 2019-08-31  A     18736   \n",
       "930 2019-08-31  B     18916   \n",
       "\n",
       "[62 rows x 3 columns]"
      ]
     },
     "execution_count": 23,
     "metadata": {},
     "output_type": "execute_result"
    }
   ],
   "source": [
    "visitorsAggregated"
   ]
  },
  {
   "cell_type": "code",
   "execution_count": 24,
   "metadata": {
    "scrolled": false
   },
   "outputs": [
    {
     "name": "stdout",
     "output_type": "stream",
     "text": [
      "        date group  orders  buyers  revenue  visitors\n",
      "0 2019-08-01  A     24      20      148579   719     \n",
      "1 2019-08-01  B     21      20      101217   713     \n",
      "2 2019-08-02  A     44      38      242401   1338    \n",
      "3 2019-08-02  B     45      43      266748   1294    \n",
      "4 2019-08-03  A     68      62      354874   1845    \n"
     ]
    }
   ],
   "source": [
    "# объединяем кумулятивные данные в одной таблице и присваиваем ее столбцам понятные названия\n",
    "cumulativeData = ordersAggregated.merge(visitorsAggregated, left_on=['date', 'group'], right_on=['date', 'group'])\n",
    "cumulativeData.columns = ['date', 'group', 'orders', 'buyers', 'revenue', 'visitors']\n",
    "\n",
    "print(cumulativeData.head(5)) "
   ]
  },
  {
   "cell_type": "code",
   "execution_count": 25,
   "metadata": {},
   "outputs": [
    {
     "data": {
      "image/png": "[encoded data removed]",
      "text/plain": [
       "<Figure size 1152x576 with 1 Axes>"
      ]
     },
     "metadata": {
      "needs_background": "light"
     },
     "output_type": "display_data"
    }
   ],
   "source": [
    "# датафрейм с кумулятивным количеством заказов и кумулятивной выручкой по дням в группе А\n",
    "cumulativeRevenueA = cumulativeData[cumulativeData['group']=='A'][['date','revenue', 'orders', 'visitors']]\n",
    "\n",
    "# датафрейм с кумулятивным количеством заказов и кумулятивной выручкой по дням в группе B\n",
    "cumulativeRevenueB = cumulativeData[cumulativeData['group']=='B'][['date','revenue', 'orders', 'visitors']]\n",
    "\n",
    "plt.figure(figsize=(16, 8))\n",
    "plt.title(\"График кумулятивной выручки по группам А и В\", fontsize=16)\n",
    "plt.xlabel(\"Временной период\")\n",
    "plt.ylabel(\"Кумулятивная выручка\")\n",
    "plt.xticks(rotation = 45)\n",
    "\n",
    "# Строим график выручки группы А\n",
    "plt.plot(cumulativeRevenueA['date'], cumulativeRevenueA['revenue'], label='A')\n",
    "\n",
    "# Строим график выручки группы B\n",
    "plt.plot(cumulativeRevenueB['date'], cumulativeRevenueB['revenue'], label='B')\n",
    "\n",
    "plt.legend() \n",
    "plt.grid(True)\n",
    "plt.show()"
   ]
  },
  {
   "cell_type": "markdown",
   "metadata": {},
   "source": [
    "**Выводы по графику кумулятивной выручки группы А и В:**\n",
    "- Выручка была примерно одинакова до 5 августа, затем виден рост группы В относительно группы А.\n",
    "- Далее 13 числа рост выручки по группе В возрастает сильнее предыдущего скачка.\n",
    "- 19 августа произошло событие (возможно сделали скидки или распродажу), которое резко увеличило выручку группы В. Данное событие никак не отразилось на группе А. \n",
    "- После скачка 19 августа выручка группы В стабилизировалась, но осталась на очень высоком уровне относительно группы А.\n",
    "- Группа А проявляет стабильность относительно группы В на протяжении всего времени, исключая небольшой скачек 13 августа, когда выручка групп сравнялась и небольшой просадки в начале относительно группы В."
   ]
  },
  {
   "cell_type": "markdown",
   "metadata": {},
   "source": [
    "### График кумулятивного среднего чека по группам. "
   ]
  },
  {
   "cell_type": "markdown",
   "metadata": {},
   "source": [
    "**Построим графики среднего чека по группам — разделим кумулятивную выручку на кумулятивное число заказов:**"
   ]
  },
  {
   "cell_type": "code",
   "execution_count": 26,
   "metadata": {},
   "outputs": [
    {
     "data": {
      "image/png": "[encoded data removed]",
      "text/plain": [
       "<Figure size 1152x576 with 1 Axes>"
      ]
     },
     "metadata": {
      "needs_background": "light"
     },
     "output_type": "display_data"
    }
   ],
   "source": [
    "plt.figure(figsize=(16, 8))\n",
    "plt.title(\"График кумулятивного среднего чека по группам А и В\", fontsize=14)\n",
    "plt.xlabel(\"Временной период\")\n",
    "plt.ylabel(\"Кумулятивный средний чек\")\n",
    "plt.xticks(rotation = 45)\n",
    "\n",
    "plt.plot(cumulativeRevenueA['date'], cumulativeRevenueA['revenue']/cumulativeRevenueA['orders'], label='A')\n",
    "plt.plot(cumulativeRevenueB['date'], cumulativeRevenueB['revenue']/cumulativeRevenueB['orders'], label='B')\n",
    "\n",
    "plt.legend() \n",
    "plt.grid(True)\n",
    "plt.show()"
   ]
  },
  {
   "cell_type": "markdown",
   "metadata": {},
   "source": [
    "**Выводы по графику кумулятивного среднего чека по группам:**\n",
    "- Из графика заметим что средний чек по группе В был всегда выше чем средний чек группы А.\n",
    "- Наблюдается просадка среднего чека по обеим группам 5-6 числа.\n",
    "- Следует заметить что группа А стартовала с более высокого среднего чем группа В.\n",
    "- 6 августа был самый низкий средний чек по группе А, а 14 самый высокий. После 14 числа идет стабилизация среднего чека по группе А.\n",
    "- Наблюдаем всплеск 19 числа по группе В, в данные попали очень крупные заказы.\n",
    "- После 19 числа оба графика стабилизируются, но средний чек группы А постепенно растет, а группы В постепенно снижается.\n",
    "- Если по группе А все более-менее стабильно, то по группе В явно нужно больше данных чтобы увидеть настоящий средний чек данной группы."
   ]
  },
  {
   "cell_type": "markdown",
   "metadata": {},
   "source": [
    "### График относительного изменения кумулятивного среднего чека группы B к группе A."
   ]
  },
  {
   "cell_type": "code",
   "execution_count": 27,
   "metadata": {},
   "outputs": [
    {
     "data": {
      "image/png": "[encoded data removed]",
      "text/plain": [
       "<Figure size 1152x576 with 1 Axes>"
      ]
     },
     "metadata": {
      "needs_background": "light"
     },
     "output_type": "display_data"
    }
   ],
   "source": [
    "# собираем данные в одном датафрейме\n",
    "mergedCumulativeRevenue = cumulativeRevenueA.merge(cumulativeRevenueB, left_on='date', right_on='date', how='left', suffixes=['A', 'B'])\n",
    "\n",
    "plt.figure(figsize=(16, 8))\n",
    "plt.title(\"График относительного изменения кумулятивного среднего чека группы B к группе A\", fontsize=14)\n",
    "plt.xlabel(\"Временной период\")\n",
    "plt.ylabel(\"Отношение кумулятивного среднего чека группы В к А\")\n",
    "plt.xticks(rotation = 45)\n",
    "\n",
    "# cтроим отношение средних чеков\n",
    "plt.plot(mergedCumulativeRevenue['date'], (mergedCumulativeRevenue['revenueB']/mergedCumulativeRevenue['ordersB'])/(mergedCumulativeRevenue['revenueA']/mergedCumulativeRevenue['ordersA'])-1)\n",
    "\n",
    "# добавляем ось X\n",
    "plt.axhline(y=0, color='black', linestyle='--') \n",
    "\n",
    "plt.show()"
   ]
  },
  {
   "cell_type": "markdown",
   "metadata": {},
   "source": [
    "**Вывод по  графику относительного изменения кумулятивного среднего чека группы B к группе A:**\n",
    "- 3 раза средний чек обеих групп был одинаков.\n",
    "- В начале периодна разница ср. чеков была отрицательна, одна группа стартовала с высокого среднего, другая с низкого.\n",
    "- Далее видим что разница средних чеков была положительна, просадка наблюдается 6 числа и затем просадка после 10го в отрицательную разницу.\n",
    "- 15 числа разница снова стала положительной и 19 числа резкий рост графика с разницей в 50%.\n",
    "- После 25 наблюдаем спад графика и к концу периода он стабилизируется на пару дней.\n",
    "- Данный график говорит о большом разбросе средних чеков и как следствие недостаточности данных."
   ]
  },
  {
   "cell_type": "markdown",
   "metadata": {},
   "source": [
    "### График кумулятивного среднего количества заказов на посетителя по группам."
   ]
  },
  {
   "cell_type": "markdown",
   "metadata": {},
   "source": [
    "**Построим графики среднего количесва заказов по группам — разделим кумулятивное кол-во заказов на кумулятивное число посетителей:**"
   ]
  },
  {
   "cell_type": "code",
   "execution_count": 28,
   "metadata": {},
   "outputs": [
    {
     "data": {
      "image/png": "[encoded data removed]",
      "text/plain": [
       "<Figure size 1152x576 with 1 Axes>"
      ]
     },
     "metadata": {
      "needs_background": "light"
     },
     "output_type": "display_data"
    }
   ],
   "source": [
    "plt.figure(figsize=(16, 8))\n",
    "plt.title(\"График кумулятивного среднего количества заказов на посетителя по группам.\", fontsize=14)\n",
    "plt.xlabel(\"Временной период\")\n",
    "plt.ylabel(\"Среднее кумулятивное количество заказов\")\n",
    "plt.xticks(rotation = 45)\n",
    "\n",
    "plt.plot(cumulativeRevenueA['date'], cumulativeRevenueA['orders']/cumulativeRevenueA['visitors'], label='A')\n",
    "plt.plot(cumulativeRevenueB['date'], cumulativeRevenueB['orders']/cumulativeRevenueB['visitors'], label='B')\n",
    "\n",
    "plt.legend() \n",
    "\n",
    "plt.show()"
   ]
  },
  {
   "cell_type": "markdown",
   "metadata": {},
   "source": [
    "**Вывод по графику кумулятивного среднего количества заказов на посетителя по группам:**\n",
    "- Группа В стартовала с низкого кол-ва заказов на посетителя, в то время как в группе А посетители сразу делали больше заказов.\n",
    "- Резкий рост заказов/пользователей наблюдаем у обоих групп с 1 по 3 число, затем спад обоих графиков. Но если график А продолжил падать до самого конца периода, то график группы В вновь вырос после 4го и больше резких снижений не было.\n",
    "- После 9го августа оба графика стабилизировались: график А на низкой планке, график В на высокой."
   ]
  },
  {
   "cell_type": "markdown",
   "metadata": {},
   "source": [
    "### График относительного изменения кумулятивного среднего количества заказов на посетителя группы B к группе A."
   ]
  },
  {
   "cell_type": "code",
   "execution_count": 29,
   "metadata": {},
   "outputs": [
    {
     "data": {
      "image/png": "[encoded data removed]",
      "text/plain": [
       "<Figure size 1152x576 with 1 Axes>"
      ]
     },
     "metadata": {
      "needs_background": "light"
     },
     "output_type": "display_data"
    }
   ],
   "source": [
    "plt.figure(figsize=(16, 8))\n",
    "plt.title(\"График относительного изменения кумулятивного среднего количества заказов на посетителя группы B к группе A.\", fontsize=14)\n",
    "plt.xlabel(\"Временной период\")\n",
    "plt.ylabel(\"Отношение среднего кумулятивного кол-ва заказов на посетителя группы В к А\")\n",
    "plt.xticks(rotation = 45)\n",
    "\n",
    "# cтроим отношение\n",
    "plt.plot(mergedCumulativeRevenue['date'], (mergedCumulativeRevenue['ordersB']/mergedCumulativeRevenue['visitorsB'])/(mergedCumulativeRevenue['ordersA']/mergedCumulativeRevenue['visitorsA'])-1)\n",
    "\n",
    "# добавляем ось X\n",
    "plt.axhline(y=0, color='black', linestyle='--') \n",
    "plt.axhline(y=0.1, color='black', linestyle='--')\n",
    "plt.axhline(y=0.2, color='black', linestyle='--')\n",
    "plt.show()"
   ]
  },
  {
   "cell_type": "markdown",
   "metadata": {},
   "source": [
    "**Вывод по графику относительного изменения кумулятивного среднего количества заказов на посетителя группы B к группе A:**\n",
    "- 1 августа разница заказы/пользователи была отрицательна, затем график вышел в положительную разницу и 3го числа снова упал.\n",
    "- После 5го числа наблюдаем рост в разнице группы В к группе А и после 6 го числа разница становиться только положительной.\n",
    "- Резких скачнов не наблюдается и разница остается только положетельной относительно всего оставшегося периода."
   ]
  },
  {
   "cell_type": "markdown",
   "metadata": {},
   "source": [
    "### Точечный график количества заказов по пользователям."
   ]
  },
  {
   "cell_type": "markdown",
   "metadata": {},
   "source": [
    "**Подсчитаем количество заказов по пользователям.**"
   ]
  },
  {
   "cell_type": "code",
   "execution_count": 30,
   "metadata": {
    "scrolled": true
   },
   "outputs": [
    {
     "name": "stdout",
     "output_type": "stream",
     "text": [
      "       visitorId  orders\n",
      "1023  4256040402  11    \n",
      "591   2458001652  11    \n",
      "569   2378935119  9     \n",
      "487   2038680547  8     \n",
      "44    199603092   5     \n",
      "744   3062433592  5     \n",
      "55    237748145   5     \n",
      "917   3803269165  5     \n",
      "299   1230306981  5     \n",
      "897   3717692402  5     \n"
     ]
    }
   ],
   "source": [
    "ordersByUsers = (orders.groupby('visitorId', as_index=False)\n",
    "    .agg({'transactionId': 'nunique'}))\n",
    "\n",
    "ordersByUsers.columns = ['visitorId', 'orders']\n",
    "\n",
    "print(ordersByUsers.sort_values(by='orders', ascending=False).head(10)) "
   ]
  },
  {
   "cell_type": "code",
   "execution_count": 31,
   "metadata": {},
   "outputs": [
    {
     "data": {
      "image/png": "[encoded data removed]",
      "text/plain": [
       "<Figure size 432x288 with 1 Axes>"
      ]
     },
     "metadata": {
      "needs_background": "light"
     },
     "output_type": "display_data"
    }
   ],
   "source": [
    "plt.hist(ordersByUsers['orders']) \n",
    "plt.show()"
   ]
  },
  {
   "cell_type": "code",
   "execution_count": 32,
   "metadata": {},
   "outputs": [
    {
     "data": {
      "image/png": "[encoded data removed]",
      "text/plain": [
       "<Figure size 432x288 with 1 Axes>"
      ]
     },
     "metadata": {
      "needs_background": "light"
     },
     "output_type": "display_data"
    }
   ],
   "source": [
    "x_values = pd.Series(range(0,len(ordersByUsers)))\n",
    "\n",
    "plt.scatter(x_values, ordersByUsers['orders']) \n",
    "\n",
    "plt.show()"
   ]
  },
  {
   "cell_type": "markdown",
   "metadata": {},
   "source": [
    "**Вывод по точечному графику количества заказов по пользователям:**\n",
    "- Большинство покупателей заказывали только один раз.\n",
    "- Есть пользователи которые сделали 8,9 и 11 заказов. Это определенно выброс.\n",
    "- Много пользователей сделали от 2 до 3 заказов.\n",
    "- Пока что не ясно считать ли аномалией 2-3 заказа, выясним это далее."
   ]
  },
  {
   "cell_type": "markdown",
   "metadata": {},
   "source": [
    "### Посчитаем 95-й и 99-й перцентили количества заказов на пользователя. Выберем границу для определения аномальных пользователей."
   ]
  },
  {
   "cell_type": "code",
   "execution_count": 33,
   "metadata": {},
   "outputs": [
    {
     "name": "stdout",
     "output_type": "stream",
     "text": [
      "[2. 4.]\n"
     ]
    }
   ],
   "source": [
    "print(np.percentile(ordersByUsers['orders'], [95, 99])) "
   ]
  },
  {
   "cell_type": "markdown",
   "metadata": {},
   "source": [
    "**Выводы:**\n",
    "- Не более 5% пользователей оформляли больше чем 2 заказа.\n",
    "- Всего лишь 1% всех покупателей сделали более 4 заказов.\n",
    "- Возьмем за верхнюю границу 2 заказа на пользователя, то есть по 95му перцетилю. Удалив всего 5% от всех данных мы не повлияем на результат."
   ]
  },
  {
   "cell_type": "markdown",
   "metadata": {},
   "source": [
    "### Построим точечный график стоимостей заказов. "
   ]
  },
  {
   "cell_type": "code",
   "execution_count": 34,
   "metadata": {},
   "outputs": [
    {
     "data": {
      "image/png": "[encoded data removed]",
      "text/plain": [
       "<Figure size 432x288 with 1 Axes>"
      ]
     },
     "metadata": {
      "needs_background": "light"
     },
     "output_type": "display_data"
    }
   ],
   "source": [
    "plt.hist(orders['revenue']) \n",
    "plt.show()"
   ]
  },
  {
   "cell_type": "code",
   "execution_count": 35,
   "metadata": {},
   "outputs": [
    {
     "data": {
      "image/png": "[encoded data removed]",
      "text/plain": [
       "<Figure size 432x288 with 1 Axes>"
      ]
     },
     "metadata": {
      "needs_background": "light"
     },
     "output_type": "display_data"
    }
   ],
   "source": [
    "x_values = pd.Series(range(0,len(orders['revenue'])))\n",
    "plt.scatter(x_values, orders['revenue']) \n",
    "plt.show()"
   ]
  },
  {
   "cell_type": "markdown",
   "metadata": {},
   "source": [
    "**Вывод: абсолютное большество заказов разместились возле нижнего порога, есть несколько выбросов которые искажают картину и их стоит отбросить.**"
   ]
  },
  {
   "cell_type": "markdown",
   "metadata": {},
   "source": [
    "### Посчитаем 95-й и 99-й перцентили стоимости заказов."
   ]
  },
  {
   "cell_type": "code",
   "execution_count": 36,
   "metadata": {},
   "outputs": [
    {
     "name": "stdout",
     "output_type": "stream",
     "text": [
      "[28000.  58233.2]\n"
     ]
    }
   ],
   "source": [
    "print(np.percentile(orders['revenue'], [95, 99]))"
   ]
  },
  {
   "cell_type": "markdown",
   "metadata": {},
   "source": [
    "**Вывод: всего лишь 5% заказов стоимостью 28000 и 1% - 58233. \n",
    "Можно смело отбросить все заказы стоимость выше 28000.**"
   ]
  },
  {
   "cell_type": "markdown",
   "metadata": {},
   "source": [
    "### Посчитаем статистическую значимость различий в среднем количестве заказов на посетителя между группами по «сырым» данным."
   ]
  },
  {
   "cell_type": "markdown",
   "metadata": {},
   "source": [
    "**Посчитаем статистическую значимость различий в среднем числе заказов на пользователя и среднем чеке между группами по «сырым» данным — без удаления аномальных пользователей.**"
   ]
  },
  {
   "cell_type": "markdown",
   "metadata": {},
   "source": [
    "**Сформулируем гипотезы.**\n",
    "- Нулевая: различий в среднем количестве заказов между группами нет. \n",
    "- Альтернативная: различия в среднем между группами есть."
   ]
  },
  {
   "cell_type": "markdown",
   "metadata": {},
   "source": [
    "**Уровень статистической значимости α = 0.05**"
   ]
  },
  {
   "cell_type": "markdown",
   "metadata": {},
   "source": [
    "**Для проверки всех нижепредставленных гипотез будем использовать непараметрический тест Уилкоксона-Манна-Уитни.**"
   ]
  },
  {
   "cell_type": "code",
   "execution_count": 37,
   "metadata": {
    "scrolled": false
   },
   "outputs": [
    {
     "name": "stdout",
     "output_type": "stream",
     "text": [
      "        date  ordersPerDateA  revenuePerDateA  ordersPerDateB  \\\n",
      "0 2019-08-01  24              148579           21               \n",
      "1 2019-08-02  20              93822            24               \n",
      "2 2019-08-03  24              112473           16               \n",
      "3 2019-08-04  16              70825            17               \n",
      "4 2019-08-05  25              124218           23               \n",
      "\n",
      "   revenuePerDateB  ordersCummulativeA  revenueCummulativeA  \\\n",
      "0  101217           24                  148579                \n",
      "1  165531           44                  242401                \n",
      "2  114248           68                  354874                \n",
      "3  108571           84                  425699                \n",
      "4  92428            109                 549917                \n",
      "\n",
      "   ordersCummulativeB  revenueCummulativeB  visitorsPerDateA  \\\n",
      "0  21                  101217               719                \n",
      "1  45                  266748               619                \n",
      "2  61                  380996               507                \n",
      "3  78                  489567               717                \n",
      "4  101                 581995               756                \n",
      "\n",
      "   visitorsPerDateB  visitorsCummulativeA  visitorsCummulativeB  \n",
      "0  713               719                   713                   \n",
      "1  581               1338                  1294                  \n",
      "2  509               1845                  1803                  \n",
      "3  770               2562                  2573                  \n",
      "4  707               3318                  3280                  \n"
     ]
    }
   ],
   "source": [
    "#подготовка данных\n",
    "visitorsADaily = visitors[visitors['group'] == 'A'][['date', 'visitors']]\n",
    "visitorsADaily.columns = ['date', 'visitorsPerDateA']\n",
    "\n",
    "visitorsACummulative = visitorsADaily.apply(\n",
    "    lambda x: visitorsADaily[visitorsADaily['date'] <= x['date']].agg(\n",
    "        {'date': 'max', 'visitorsPerDateA': 'sum'}\n",
    "    ),\n",
    "    axis=1,\n",
    ")\n",
    "visitorsACummulative.columns = ['date', 'visitorsCummulativeA']\n",
    "\n",
    "visitorsBDaily = visitors[visitors['group'] == 'B'][['date', 'visitors']]\n",
    "visitorsBDaily.columns = ['date', 'visitorsPerDateB']\n",
    "\n",
    "visitorsBCummulative = visitorsBDaily.apply(\n",
    "    lambda x: visitorsBDaily[visitorsBDaily['date'] <= x['date']].agg(\n",
    "        {'date': 'max', 'visitorsPerDateB': 'sum'}\n",
    "    ),\n",
    "    axis=1,\n",
    ")\n",
    "visitorsBCummulative.columns = ['date', 'visitorsCummulativeB']\n",
    "\n",
    "ordersADaily = (\n",
    "    orders[orders['group'] == 'A'][['date', 'transactionId', 'visitorId', 'revenue']]\n",
    "    .groupby('date', as_index=False)\n",
    "    .agg({'transactionId': pd.Series.nunique, 'revenue': 'sum'})\n",
    ")\n",
    "ordersADaily.columns = ['date', 'ordersPerDateA', 'revenuePerDateA']\n",
    "\n",
    "ordersACummulative = ordersADaily.apply(\n",
    "    lambda x: ordersADaily[ordersADaily['date'] <= x['date']].agg(\n",
    "        {'date': 'max', 'ordersPerDateA': 'sum', 'revenuePerDateA': 'sum'}\n",
    "    ),\n",
    "    axis=1,\n",
    ").sort_values(by=['date'])\n",
    "ordersACummulative.columns = [\n",
    "    'date',\n",
    "    'ordersCummulativeA',\n",
    "    'revenueCummulativeA',\n",
    "]\n",
    "\n",
    "ordersBDaily = (\n",
    "    orders[orders['group'] == 'B'][['date', 'transactionId', 'visitorId', 'revenue']]\n",
    "    .groupby('date', as_index=False)\n",
    "    .agg({'transactionId': pd.Series.nunique, 'revenue': 'sum'})\n",
    ")\n",
    "ordersBDaily.columns = ['date', 'ordersPerDateB', 'revenuePerDateB']\n",
    "\n",
    "ordersBCummulative = ordersBDaily.apply(\n",
    "    lambda x: ordersBDaily[ordersBDaily['date'] <= x['date']].agg(\n",
    "        {'date': 'max', 'ordersPerDateB': 'sum', 'revenuePerDateB': 'sum'}\n",
    "    ),\n",
    "    axis=1,\n",
    ").sort_values(by=['date'])\n",
    "ordersBCummulative.columns = [\n",
    "    'date',\n",
    "    'ordersCummulativeB',\n",
    "    'revenueCummulativeB',\n",
    "]\n",
    "\n",
    "data = (\n",
    "    ordersADaily.merge(\n",
    "        ordersBDaily, left_on='date', right_on='date', how='left'\n",
    "    )\n",
    "    .merge(ordersACummulative, left_on='date', right_on='date', how='left')\n",
    "    .merge(ordersBCummulative, left_on='date', right_on='date', how='left')\n",
    "    .merge(visitorsADaily, left_on='date', right_on='date', how='left')\n",
    "    .merge(visitorsBDaily, left_on='date', right_on='date', how='left')\n",
    "    .merge(visitorsACummulative, left_on='date', right_on='date', how='left')\n",
    "    .merge(visitorsBCummulative, left_on='date', right_on='date', how='left')\n",
    ")\n",
    "\n",
    "print(data.head(5))"
   ]
  },
  {
   "cell_type": "markdown",
   "metadata": {},
   "source": [
    "**Названия столбцов:**\n",
    "- date — дата;\n",
    "- ordersPerDateA — количество заказов в выбранную дату в группе A;\n",
    "- revenuePerDateA — суммарная выручка в выбранную дату в группе A;\n",
    "- ordersPerDateB — количество заказов в выбранную дату в группе B;\n",
    "- revenuePerDateB — суммарная выручка в выбранную дату в группе B;\n",
    "- ordersCummulativeA — суммарное число заказов до выбранной даты включительно в группе A;\n",
    "- revenueCummulativeA — суммарная выручка до выбранной даты включительно в группе A;\n",
    "- ordersCummulativeB — суммарное количество заказов до выбранной даты включительно в группе B;\n",
    "- revenueCummulativeB — суммарная выручка до выбранной даты включительно в группе B;\n",
    "- visitorsPerDateA — количество пользователей в выбранную дату в группе A;\n",
    "- visitorsPerDateB — количество пользователей в выбранную дату в группе B;\n",
    "- visitorsCummulativeA  — количество пользователей до выбранной даты включительно в группе A;\n",
    "- visitorsCummulativeB — количество пользователей до выбранной даты включительно в группе B."
   ]
  },
  {
   "cell_type": "code",
   "execution_count": 38,
   "metadata": {},
   "outputs": [],
   "source": [
    "#Создадим переменные ordersByUsersA и ordersByUsersB со столбцами ['userId', 'orders'].\n",
    "#В них для пользователей, которые заказывали хотя бы 1 раз, укажем число совершённых заказов. \n",
    "\n",
    "ordersByUsersA = (\n",
    "    orders[orders['group'] == 'A']\n",
    "    .groupby('visitorId', as_index=False)\n",
    "    .agg({'transactionId': pd.Series.nunique})\n",
    ")\n",
    "ordersByUsersA.columns = ['userId', 'orders']\n",
    "\n",
    "ordersByUsersB = (\n",
    "    orders[orders['group'] == 'B']\n",
    "    .groupby('visitorId', as_index=False)\n",
    "    .agg({'transactionId': pd.Series.nunique})\n",
    ")\n",
    "ordersByUsersB.columns = ['visitorId', 'orders']"
   ]
  },
  {
   "cell_type": "markdown",
   "metadata": {},
   "source": [
    "**Объявим переменные sampleA и sampleB, в которых пользователям из разных групп будет соответствовать количество заказов. Тем, кто ничего не заказал, будут соответствовать нули.**"
   ]
  },
  {
   "cell_type": "code",
   "execution_count": 39,
   "metadata": {},
   "outputs": [],
   "source": [
    "sampleA = pd.concat([ordersByUsersA['orders'],pd.Series(0, index=np.arange(data['visitorsPerDateA'].sum() - len(ordersByUsersA['orders'])), name='orders')],axis=0)\n",
    "\n",
    "sampleB = pd.concat([ordersByUsersB['orders'],pd.Series(0, index=np.arange(data['visitorsPerDateB'].sum() - len(ordersByUsersB['orders'])), name='orders')],axis=0)"
   ]
  },
  {
   "cell_type": "markdown",
   "metadata": {},
   "source": [
    "**Выведем относительный прирост среднего числа заказов группы B: среднее число заказов группы B / среднее число заказов группы A - 1.  Округлим до трёх знаков после запятой.**"
   ]
  },
  {
   "cell_type": "code",
   "execution_count": 40,
   "metadata": {},
   "outputs": [
    {
     "name": "stdout",
     "output_type": "stream",
     "text": [
      "p-value:\n",
      "0.017\n",
      "\n",
      "Различие в среднем кол-ве заказов:\n",
      "0.138\n"
     ]
    }
   ],
   "source": [
    "ordersByUsersA = (\n",
    "    orders[orders['group'] == 'A']\n",
    "    .groupby('visitorId', as_index=False)\n",
    "    .agg({'transactionId': pd.Series.nunique})\n",
    ")\n",
    "ordersByUsersA.columns = ['visitorId', 'orders']\n",
    "\n",
    "ordersByUsersB = (\n",
    "    orders[orders['group'] == 'B']\n",
    "    .groupby('visitorId', as_index=False)\n",
    "    .agg({'transactionId': pd.Series.nunique})\n",
    ")\n",
    "ordersByUsersB.columns = ['visitorId', 'orders']\n",
    "\n",
    "sampleA = pd.concat(\n",
    "    [\n",
    "        ordersByUsersA['orders'],\n",
    "        pd.Series(\n",
    "            0,\n",
    "            index=np.arange(\n",
    "                data['visitorsPerDateA'].sum() - len(ordersByUsersA['orders'])\n",
    "            ),\n",
    "            name='orders',\n",
    "        ),\n",
    "    ],\n",
    "    axis=0,\n",
    ")\n",
    "\n",
    "sampleB = pd.concat(\n",
    "    [\n",
    "        ordersByUsersB['orders'],\n",
    "        pd.Series(\n",
    "            0,\n",
    "            index=np.arange(\n",
    "                data['visitorsPerDateB'].sum() - len(ordersByUsersB['orders'])\n",
    "            ),\n",
    "            name='orders',\n",
    "        ),\n",
    "    ],\n",
    "    axis=0,\n",
    ")\n",
    "print(\"p-value:\")\n",
    "print(\"{0:.3f}\".format(stats.mannwhitneyu(sampleA, sampleB)[1]))\n",
    "print()\n",
    "print(\"Различие в среднем кол-ве заказов:\")\n",
    "print(\"{0:.3f}\".format(sampleB.mean() / sampleA.mean() - 1))"
   ]
  },
  {
   "cell_type": "markdown",
   "metadata": {},
   "source": [
    "**Вывод:**\n",
    "- p-value = 0.017 < 0.05 Нулевую гипотезу о том, что статистически значимых различий в среднем числе заказов между группами нет, отвергаем.\n",
    "- Первый вывод говорит о том что трафик поделился между пользователями неккоректно и А/В тест не будет точным.\n",
    "- Разница между группами составляет 13.8%."
   ]
  },
  {
   "cell_type": "markdown",
   "metadata": {},
   "source": [
    "## Посчитаем статистическую значимость различий в среднем чеке заказа между группами по «сырым» данным."
   ]
  },
  {
   "cell_type": "markdown",
   "metadata": {},
   "source": [
    "**Сформулируем гипотезу:**\n",
    "- Нулевая гипотеза: различий в среднем чеке между группами А и В нет.\n",
    "- Альтернативная гипотеза: различия в среднем чеке между группами А и В есть. "
   ]
  },
  {
   "cell_type": "markdown",
   "metadata": {},
   "source": [
    "**Уровень статистической значимости α = 0.05**"
   ]
  },
  {
   "cell_type": "code",
   "execution_count": 41,
   "metadata": {},
   "outputs": [
    {
     "name": "stdout",
     "output_type": "stream",
     "text": [
      "p-value:\n",
      "0.729\n",
      "\n",
      "Различие в среднем чеке между группами по 'сырым данным':\n",
      "0.259\n"
     ]
    }
   ],
   "source": [
    "print(\"p-value:\")\n",
    "print('{0:.3f}'.format(stats.mannwhitneyu(orders[orders['group']=='A']['revenue'], orders[orders['group']=='B']['revenue'])[1]))\n",
    "print()\n",
    "print(\"Различие в среднем чеке между группами по 'сырым данным':\")\n",
    "print('{0:.3f}'.format(orders[orders['group']=='B']['revenue'].mean()/orders[orders['group']=='A']['revenue'].mean()-1))"
   ]
  },
  {
   "cell_type": "markdown",
   "metadata": {},
   "source": [
    "**Вывод:**"
   ]
  },
  {
   "cell_type": "markdown",
   "metadata": {},
   "source": [
    "- P-value значительно больше 0.05, получено случайно из-за единичных выбросов.\n",
    "- Средний чек группы А значительно ниже среднего чека группы В и разница между ними в 25,9%.\n",
    "- На результат влияют аномальные чеки, нужно делать выводы, удалив аномалии. Проводим тест дальше."
   ]
  },
  {
   "cell_type": "markdown",
   "metadata": {},
   "source": [
    "*Если p-значение меньше уровня значимости, то можно отвергнуть нулевую гипотезу, имея доказательства для альтернативы.*\n",
    "\n",
    "*Если p-значение больше или равно уровню значимости, мы не можем отвергнуть нулевую гипотезу о том, что A и B не отличаются друг от друга.*"
   ]
  },
  {
   "cell_type": "markdown",
   "metadata": {},
   "source": [
    "### Посчитаем статистическую значимость различий в среднем количестве заказов на посетителя между группами по «очищенным» данным."
   ]
  },
  {
   "cell_type": "markdown",
   "metadata": {},
   "source": [
    "**Узнаем, сколько всего аномальных пользователей.**"
   ]
  },
  {
   "cell_type": "code",
   "execution_count": 42,
   "metadata": {
    "scrolled": true
   },
   "outputs": [
    {
     "name": "stdout",
     "output_type": "stream",
     "text": [
      "1099    148427295\n",
      "18      199603092\n",
      "928     204675465\n",
      "23      237748145\n",
      "37      249864742\n",
      "Name: visitorId, dtype: int64\n",
      "\n",
      "Аномальных пользователей: 74\n"
     ]
    }
   ],
   "source": [
    "usersWithManyOrders = pd.concat(\n",
    "    [\n",
    "        ordersByUsersA[ordersByUsersA['orders'] > 2]['visitorId'],\n",
    "        ordersByUsersB[ordersByUsersB['orders'] > 2]['visitorId'],\n",
    "    ],\n",
    "    axis=0,\n",
    ")\n",
    "usersWithExpensiveOrders = orders[orders['revenue'] > 28000]['visitorId']\n",
    "abnormalUsers = (\n",
    "    pd.concat([usersWithManyOrders, usersWithExpensiveOrders], axis=0)\n",
    "    .drop_duplicates()\n",
    "    .sort_values()\n",
    ")\n",
    "print(abnormalUsers.head(5))\n",
    "abnormalUsers_all = abnormalUsers.shape[0]\n",
    "print()\n",
    "print(f'Аномальных пользователей: {abnormalUsers_all}')"
   ]
  },
  {
   "cell_type": "markdown",
   "metadata": {},
   "source": [
    "**Всего 74 аномальных пользователей. \n",
    "Узнаем, как их действия повлияли на результаты теста.**"
   ]
  },
  {
   "cell_type": "markdown",
   "metadata": {},
   "source": [
    "**Сформулируем гипотезу:**\n",
    "- Нулевая гипотеза: различий в среднем количестве заказов на посетителя между группами А и В нет.\n",
    "- Альтернативная гипотеза: есть различия в среднем количестве заказов на посетителя. "
   ]
  },
  {
   "cell_type": "code",
   "execution_count": 43,
   "metadata": {},
   "outputs": [],
   "source": [
    "sampleAFiltered = pd.concat(\n",
    "    [\n",
    "        ordersByUsersA[\n",
    "            np.logical_not(ordersByUsersA['visitorId'].isin(abnormalUsers))\n",
    "        ]['orders'],\n",
    "        pd.Series(\n",
    "            0,\n",
    "            index=np.arange(\n",
    "                data['visitorsPerDateA'].sum() - len(ordersByUsersA['orders'])\n",
    "            ),\n",
    "            name='orders',\n",
    "        ),\n",
    "    ],\n",
    "    axis=0,\n",
    ")\n",
    "\n",
    "sampleBFiltered = pd.concat(\n",
    "    [\n",
    "        ordersByUsersB[\n",
    "            np.logical_not(ordersByUsersB['visitorId'].isin(abnormalUsers))\n",
    "        ]['orders'],\n",
    "        pd.Series(\n",
    "            0,\n",
    "            index=np.arange(\n",
    "                data['visitorsPerDateB'].sum() - len(ordersByUsersB['orders'])\n",
    "            ),\n",
    "            name='orders',\n",
    "        ),\n",
    "    ],\n",
    "    axis=0,\n",
    ")"
   ]
  },
  {
   "cell_type": "markdown",
   "metadata": {},
   "source": [
    "*Если p-значение меньше уровня значимости, то можно отвергнуть нулевую гипотезу, имея доказательства для альтернативы.*\n",
    "\n",
    "*Если p-значение больше или равно уровню значимости, мы не можем отвергнуть нулевую гипотезу о том, что A и B не отличаются друг от друга.*"
   ]
  },
  {
   "cell_type": "code",
   "execution_count": 44,
   "metadata": {},
   "outputs": [
    {
     "name": "stdout",
     "output_type": "stream",
     "text": [
      "p-value:\n",
      "0.013\n",
      "\n",
      "Различие в среднем количестве заказов на посетителя\n",
      "0.173\n"
     ]
    }
   ],
   "source": [
    "#Применим статистический критерий Манна-Уитни к полученным выборкам\n",
    "print(\"p-value:\")\n",
    "print('{0:.3f}'.format(stats.mannwhitneyu(sampleAFiltered, sampleBFiltered)[1]))\n",
    "print()\n",
    "print(\"Различие в среднем количестве заказов на посетителя\")\n",
    "print('{0:.3f}'.format(sampleBFiltered.mean()/sampleAFiltered.mean()-1))"
   ]
  },
  {
   "cell_type": "markdown",
   "metadata": {},
   "source": [
    "**Результаты по среднему количеству заказов практически не изменились.**\n",
    "- - p-value = 0.013 < 0.05 Нулевую гипотезу о том, различий в среднем количестве заказов на посетителя между группами А и В нет, отвергаем в пользу альтернативной: различия в среднем количестве заказов на посетителя в группе А и В есть. "
   ]
  },
  {
   "cell_type": "markdown",
   "metadata": {},
   "source": [
    "### Посчитаем статистическую значимость различий в среднем чеке заказа между группами по «очищенным» данным."
   ]
  },
  {
   "cell_type": "markdown",
   "metadata": {},
   "source": [
    "**Сформулируем гипотезу:**\n",
    "- Нулевая гипотеза: различий в среднем чеке между группами А и В нет.\n",
    "- Альтернативная гипотеза: различия в среднем чеке между группами А и В есть. "
   ]
  },
  {
   "cell_type": "code",
   "execution_count": 45,
   "metadata": {
    "scrolled": true
   },
   "outputs": [
    {
     "name": "stdout",
     "output_type": "stream",
     "text": [
      "p-value:\n",
      "0.738\n",
      "\n",
      "Различие в среднем чеке между группами А и В:\n",
      "-0.020\n"
     ]
    }
   ],
   "source": [
    "print(\"p-value:\")\n",
    "print(\n",
    "    '{0:.3f}'.format(\n",
    "        stats.mannwhitneyu(\n",
    "            orders[\n",
    "                np.logical_and(\n",
    "                    orders['group'] == 'A',\n",
    "                    np.logical_not(orders['visitorId'].isin(abnormalUsers)),\n",
    "                )\n",
    "            ]['revenue'],\n",
    "            orders[\n",
    "                np.logical_and(\n",
    "                    orders['group'] == 'B',\n",
    "                    np.logical_not(orders['visitorId'].isin(abnormalUsers)),\n",
    "                )\n",
    "            ]['revenue'],\n",
    "        )[1]\n",
    "    )\n",
    ")\n",
    "print()\n",
    "print(\"Различие в среднем чеке между группами А и В:\")\n",
    "print(\n",
    "    \"{0:.3f}\".format(\n",
    "        orders[\n",
    "            np.logical_and(\n",
    "                orders['group'] == 'B',\n",
    "                np.logical_not(orders['visitorId'].isin(abnormalUsers)),\n",
    "            )\n",
    "        ]['revenue'].mean()\n",
    "        / orders[\n",
    "            np.logical_and(\n",
    "                orders['group'] == 'A',\n",
    "                np.logical_not(orders['visitorId'].isin(abnormalUsers)),\n",
    "            )\n",
    "        ]['revenue'].mean()\n",
    "        - 1\n",
    "    )\n",
    ")"
   ]
  },
  {
   "cell_type": "markdown",
   "metadata": {},
   "source": [
    "**Вывод:**"
   ]
  },
  {
   "cell_type": "markdown",
   "metadata": {},
   "source": [
    "- P-value увеличился, но и разница между сегментами сократилась на 23,9%.\n",
    "- Нулевую гипотезу не отвергаем: различий в среднем чеке между группами А и В нет.\n",
    "- График различия среднего количества заказов между группами сообщает, что результаты группы А хуже группы В и нет значительной тенденции к улучшению"
   ]
  },
  {
   "cell_type": "markdown",
   "metadata": {},
   "source": [
    "*Если p-значение меньше уровня значимости, то можно отвергнуть нулевую гипотезу, имея доказательства для альтернативы.*\n",
    "\n",
    "*Если p-значение больше или равно уровню значимости, мы не можем отвергнуть нулевую гипотезу о том, что A и B не отличаются друг от друга.*"
   ]
  },
  {
   "cell_type": "markdown",
   "metadata": {},
   "source": [
    "### Решение по результатам теста."
   ]
  },
  {
   "cell_type": "markdown",
   "metadata": {},
   "source": [
    "**Остановить тест и считать его успешным. Группа В значительно лучше группы А:**\n",
    "- Выручка группы В на протяжении всего теста лучше группы А.\n",
    "- Средний чек на протяжении практически всего теста в группе В лучше.\n",
    "- Количество заказов на посетителя в группе В больше. Данные графики стабилизированы.\n",
    "- Нет статистически значимого различия  между сырыми данными и отфильтрованными от аномалий."
   ]
  }
 ],
 "metadata": {
  "ExecuteTimeLog": [
   {
    "duration": 1329,
    "start_time": "2023-06-25T06:52:59.292Z"
   },
   {
    "duration": 86,
    "start_time": "2023-06-25T06:53:07.067Z"
   },
   {
    "duration": 114,
    "start_time": "2023-06-25T06:53:26.711Z"
   },
   {
    "duration": 189,
    "start_time": "2023-06-25T06:53:43.234Z"
   },
   {
    "duration": 3,
    "start_time": "2023-06-25T06:54:26.195Z"
   },
   {
    "duration": 111,
    "start_time": "2023-06-25T06:54:26.649Z"
   },
   {
    "duration": 111,
    "start_time": "2023-06-25T06:54:47.021Z"
   },
   {
    "duration": 91,
    "start_time": "2023-06-25T06:55:05.427Z"
   },
   {
    "duration": 16,
    "start_time": "2023-06-25T06:55:25.825Z"
   },
   {
    "duration": 17,
    "start_time": "2023-06-25T06:55:30.479Z"
   },
   {
    "duration": 14,
    "start_time": "2023-06-25T06:55:36.839Z"
   },
   {
    "duration": 73,
    "start_time": "2023-06-25T06:56:51.583Z"
   },
   {
    "duration": 1210,
    "start_time": "2023-06-25T06:57:00.004Z"
   },
   {
    "duration": 76,
    "start_time": "2023-06-25T06:57:01.216Z"
   },
   {
    "duration": 13,
    "start_time": "2023-06-25T06:57:01.294Z"
   },
   {
    "duration": 33,
    "start_time": "2023-06-25T06:57:01.310Z"
   },
   {
    "duration": 23,
    "start_time": "2023-06-25T06:57:01.344Z"
   },
   {
    "duration": 9,
    "start_time": "2023-06-25T06:57:35.018Z"
   },
   {
    "duration": 6,
    "start_time": "2023-06-25T06:57:40.098Z"
   },
   {
    "duration": 4,
    "start_time": "2023-06-25T06:58:00.345Z"
   },
   {
    "duration": 5,
    "start_time": "2023-06-25T06:58:10.336Z"
   },
   {
    "duration": 3,
    "start_time": "2023-06-25T06:59:25.432Z"
   },
   {
    "duration": 4,
    "start_time": "2023-06-25T06:59:35.992Z"
   },
   {
    "duration": 10,
    "start_time": "2023-06-25T06:59:49.885Z"
   },
   {
    "duration": 38,
    "start_time": "2023-06-25T07:04:24.141Z"
   },
   {
    "duration": 4,
    "start_time": "2023-06-25T07:07:44.295Z"
   },
   {
    "duration": 8,
    "start_time": "2023-06-25T07:07:49.473Z"
   },
   {
    "duration": 12,
    "start_time": "2023-06-25T07:10:08.771Z"
   },
   {
    "duration": 9,
    "start_time": "2023-06-25T07:11:50.222Z"
   },
   {
    "duration": 96,
    "start_time": "2023-06-25T07:15:38.782Z"
   },
   {
    "duration": 102,
    "start_time": "2023-06-25T07:16:09.896Z"
   },
   {
    "duration": 7,
    "start_time": "2023-06-25T07:16:20.344Z"
   },
   {
    "duration": 10,
    "start_time": "2023-06-25T07:16:50.867Z"
   },
   {
    "duration": 25,
    "start_time": "2023-06-25T07:17:01.463Z"
   },
   {
    "duration": 19,
    "start_time": "2023-06-25T07:17:34.997Z"
   },
   {
    "duration": 20,
    "start_time": "2023-06-25T07:17:43.950Z"
   },
   {
    "duration": 1319,
    "start_time": "2023-06-25T07:17:56.254Z"
   },
   {
    "duration": 123,
    "start_time": "2023-06-25T07:17:57.577Z"
   },
   {
    "duration": 59,
    "start_time": "2023-06-25T07:17:57.703Z"
   },
   {
    "duration": 6,
    "start_time": "2023-06-25T07:17:57.765Z"
   },
   {
    "duration": 3,
    "start_time": "2023-06-25T07:17:57.774Z"
   },
   {
    "duration": 12,
    "start_time": "2023-06-25T07:17:57.779Z"
   },
   {
    "duration": 14,
    "start_time": "2023-06-25T07:17:57.793Z"
   },
   {
    "duration": 52,
    "start_time": "2023-06-25T07:17:57.809Z"
   },
   {
    "duration": 7,
    "start_time": "2023-06-25T07:17:57.863Z"
   },
   {
    "duration": 20,
    "start_time": "2023-06-25T07:17:57.871Z"
   },
   {
    "duration": 122,
    "start_time": "2023-06-25T07:18:13.094Z"
   },
   {
    "duration": 27,
    "start_time": "2023-06-25T07:18:16.694Z"
   },
   {
    "duration": 7,
    "start_time": "2023-06-25T07:18:31.965Z"
   },
   {
    "duration": 25,
    "start_time": "2023-06-25T07:18:32.415Z"
   },
   {
    "duration": 153,
    "start_time": "2023-06-25T07:24:19.019Z"
   },
   {
    "duration": 1632,
    "start_time": "2023-06-25T07:24:21.071Z"
   },
   {
    "duration": 1359,
    "start_time": "2023-06-25T07:24:30.714Z"
   },
   {
    "duration": 105,
    "start_time": "2023-06-25T07:24:32.076Z"
   },
   {
    "duration": 57,
    "start_time": "2023-06-25T07:24:32.184Z"
   },
   {
    "duration": 4,
    "start_time": "2023-06-25T07:24:32.243Z"
   },
   {
    "duration": 33,
    "start_time": "2023-06-25T07:24:32.253Z"
   },
   {
    "duration": 32,
    "start_time": "2023-06-25T07:24:32.288Z"
   },
   {
    "duration": 28,
    "start_time": "2023-06-25T07:24:32.322Z"
   },
   {
    "duration": 22,
    "start_time": "2023-06-25T07:24:32.353Z"
   },
   {
    "duration": 52,
    "start_time": "2023-06-25T07:24:32.378Z"
   },
   {
    "duration": 1744,
    "start_time": "2023-06-25T07:24:32.434Z"
   },
   {
    "duration": 5,
    "start_time": "2023-06-25T07:24:41.612Z"
   },
   {
    "duration": 10,
    "start_time": "2023-06-25T07:27:20.398Z"
   },
   {
    "duration": 9,
    "start_time": "2023-06-25T07:38:10.199Z"
   },
   {
    "duration": 9,
    "start_time": "2023-06-25T07:39:19.228Z"
   },
   {
    "duration": 9,
    "start_time": "2023-06-25T07:49:50.280Z"
   },
   {
    "duration": 16,
    "start_time": "2023-06-25T07:49:57.777Z"
   },
   {
    "duration": 13,
    "start_time": "2023-06-25T07:50:08.912Z"
   },
   {
    "duration": 18,
    "start_time": "2023-06-25T07:50:32.539Z"
   },
   {
    "duration": 7,
    "start_time": "2023-06-25T07:50:38.308Z"
   },
   {
    "duration": 7,
    "start_time": "2023-06-25T07:51:26.286Z"
   },
   {
    "duration": 8,
    "start_time": "2023-06-25T07:52:45.369Z"
   },
   {
    "duration": 15,
    "start_time": "2023-06-25T07:52:52.578Z"
   },
   {
    "duration": 11,
    "start_time": "2023-06-25T07:52:55.186Z"
   },
   {
    "duration": 17,
    "start_time": "2023-06-25T07:53:21.608Z"
   },
   {
    "duration": 6,
    "start_time": "2023-06-25T07:53:47.218Z"
   },
   {
    "duration": 12,
    "start_time": "2023-06-25T07:53:53.254Z"
   },
   {
    "duration": 144,
    "start_time": "2023-06-25T07:55:18.511Z"
   },
   {
    "duration": 6,
    "start_time": "2023-06-25T07:55:24.695Z"
   },
   {
    "duration": 173,
    "start_time": "2023-06-25T07:56:14.014Z"
   },
   {
    "duration": 8,
    "start_time": "2023-06-25T07:56:24.538Z"
   },
   {
    "duration": 7,
    "start_time": "2023-06-25T07:56:42.914Z"
   },
   {
    "duration": 13,
    "start_time": "2023-06-25T10:48:51.395Z"
   },
   {
    "duration": 12,
    "start_time": "2023-06-25T10:48:59.074Z"
   },
   {
    "duration": 9,
    "start_time": "2023-06-25T10:59:55.317Z"
   },
   {
    "duration": 12,
    "start_time": "2023-06-25T11:00:02.421Z"
   },
   {
    "duration": 41,
    "start_time": "2023-06-25T11:01:30.448Z"
   },
   {
    "duration": 211,
    "start_time": "2023-06-25T11:04:16.772Z"
   },
   {
    "duration": 12,
    "start_time": "2023-06-25T11:04:47.268Z"
   },
   {
    "duration": 10,
    "start_time": "2023-06-25T11:04:55.472Z"
   },
   {
    "duration": 7,
    "start_time": "2023-06-25T11:04:56.868Z"
   },
   {
    "duration": 11,
    "start_time": "2023-06-25T11:04:57.318Z"
   },
   {
    "duration": 174,
    "start_time": "2023-06-25T11:04:59.071Z"
   },
   {
    "duration": 12,
    "start_time": "2023-06-25T11:04:59.835Z"
   },
   {
    "duration": 145,
    "start_time": "2023-06-25T11:06:15.028Z"
   },
   {
    "duration": 11,
    "start_time": "2023-06-25T11:06:36.936Z"
   },
   {
    "duration": 17,
    "start_time": "2023-06-25T11:09:02.590Z"
   },
   {
    "duration": 295,
    "start_time": "2023-06-25T11:09:50.458Z"
   },
   {
    "duration": 202,
    "start_time": "2023-06-25T11:11:34.439Z"
   },
   {
    "duration": 196,
    "start_time": "2023-06-25T11:11:55.916Z"
   },
   {
    "duration": 207,
    "start_time": "2023-06-25T11:12:02.540Z"
   },
   {
    "duration": 588,
    "start_time": "2023-06-25T11:12:17.947Z"
   },
   {
    "duration": 320,
    "start_time": "2023-06-25T11:12:38.170Z"
   },
   {
    "duration": 247,
    "start_time": "2023-06-25T11:12:44.403Z"
   },
   {
    "duration": 192,
    "start_time": "2023-06-25T11:23:14.196Z"
   },
   {
    "duration": 428,
    "start_time": "2023-06-25T11:23:31.629Z"
   },
   {
    "duration": 391,
    "start_time": "2023-06-25T11:24:16.368Z"
   },
   {
    "duration": 1534,
    "start_time": "2023-06-25T11:24:46.378Z"
   },
   {
    "duration": 105,
    "start_time": "2023-06-25T11:24:47.915Z"
   },
   {
    "duration": 61,
    "start_time": "2023-06-25T11:24:48.022Z"
   },
   {
    "duration": 5,
    "start_time": "2023-06-25T11:24:48.085Z"
   },
   {
    "duration": 12,
    "start_time": "2023-06-25T11:24:48.093Z"
   },
   {
    "duration": 16,
    "start_time": "2023-06-25T11:24:48.107Z"
   },
   {
    "duration": 27,
    "start_time": "2023-06-25T11:24:48.153Z"
   },
   {
    "duration": 8,
    "start_time": "2023-06-25T11:24:48.185Z"
   },
   {
    "duration": 23,
    "start_time": "2023-06-25T11:24:48.195Z"
   },
   {
    "duration": 5,
    "start_time": "2023-06-25T11:24:48.219Z"
   },
   {
    "duration": 39,
    "start_time": "2023-06-25T11:24:48.225Z"
   },
   {
    "duration": 17,
    "start_time": "2023-06-25T11:24:48.266Z"
   },
   {
    "duration": 10,
    "start_time": "2023-06-25T11:24:48.285Z"
   },
   {
    "duration": 5,
    "start_time": "2023-06-25T11:24:48.298Z"
   },
   {
    "duration": 8,
    "start_time": "2023-06-25T11:24:48.305Z"
   },
   {
    "duration": 14,
    "start_time": "2023-06-25T11:24:48.314Z"
   },
   {
    "duration": 27,
    "start_time": "2023-06-25T11:24:48.329Z"
   },
   {
    "duration": 242,
    "start_time": "2023-06-25T11:24:48.359Z"
   },
   {
    "duration": 12,
    "start_time": "2023-06-25T11:24:48.603Z"
   },
   {
    "duration": 161,
    "start_time": "2023-06-25T11:24:48.617Z"
   },
   {
    "duration": 15,
    "start_time": "2023-06-25T11:24:48.781Z"
   },
   {
    "duration": 10,
    "start_time": "2023-06-25T11:24:48.798Z"
   },
   {
    "duration": 411,
    "start_time": "2023-06-25T11:24:48.810Z"
   },
   {
    "duration": 388,
    "start_time": "2023-06-25T11:24:49.223Z"
   },
   {
    "duration": 378,
    "start_time": "2023-06-25T11:31:39.180Z"
   },
   {
    "duration": 1379,
    "start_time": "2023-06-25T11:31:47.752Z"
   },
   {
    "duration": 89,
    "start_time": "2023-06-25T11:31:49.134Z"
   },
   {
    "duration": 63,
    "start_time": "2023-06-25T11:31:49.224Z"
   },
   {
    "duration": 3,
    "start_time": "2023-06-25T11:31:49.290Z"
   },
   {
    "duration": 9,
    "start_time": "2023-06-25T11:31:49.296Z"
   },
   {
    "duration": 11,
    "start_time": "2023-06-25T11:31:49.306Z"
   },
   {
    "duration": 39,
    "start_time": "2023-06-25T11:31:49.319Z"
   },
   {
    "duration": 11,
    "start_time": "2023-06-25T11:31:49.360Z"
   },
   {
    "duration": 24,
    "start_time": "2023-06-25T11:31:49.374Z"
   },
   {
    "duration": 5,
    "start_time": "2023-06-25T11:31:49.400Z"
   },
   {
    "duration": 9,
    "start_time": "2023-06-25T11:31:49.406Z"
   },
   {
    "duration": 40,
    "start_time": "2023-06-25T11:31:49.416Z"
   },
   {
    "duration": 15,
    "start_time": "2023-06-25T11:31:49.459Z"
   },
   {
    "duration": 8,
    "start_time": "2023-06-25T11:31:49.476Z"
   },
   {
    "duration": 10,
    "start_time": "2023-06-25T11:31:49.485Z"
   },
   {
    "duration": 11,
    "start_time": "2023-06-25T11:31:49.496Z"
   },
   {
    "duration": 10,
    "start_time": "2023-06-25T11:31:49.508Z"
   },
   {
    "duration": 223,
    "start_time": "2023-06-25T11:31:49.520Z"
   },
   {
    "duration": 20,
    "start_time": "2023-06-25T11:31:49.745Z"
   },
   {
    "duration": 156,
    "start_time": "2023-06-25T11:31:49.768Z"
   },
   {
    "duration": 11,
    "start_time": "2023-06-25T11:31:49.926Z"
   },
   {
    "duration": 26,
    "start_time": "2023-06-25T11:31:49.939Z"
   },
   {
    "duration": 340,
    "start_time": "2023-06-25T11:31:49.971Z"
   },
   {
    "duration": 368,
    "start_time": "2023-06-25T11:31:50.313Z"
   },
   {
    "duration": 261,
    "start_time": "2023-06-25T11:32:54.572Z"
   },
   {
    "duration": 277,
    "start_time": "2023-06-25T11:56:24.865Z"
   },
   {
    "duration": 344,
    "start_time": "2023-06-25T11:56:48.567Z"
   },
   {
    "duration": 368,
    "start_time": "2023-06-25T11:57:00.068Z"
   },
   {
    "duration": 11,
    "start_time": "2023-06-25T12:17:04.844Z"
   },
   {
    "duration": 204,
    "start_time": "2023-06-25T12:18:03.136Z"
   },
   {
    "duration": 12,
    "start_time": "2023-06-25T12:19:21.953Z"
   },
   {
    "duration": 9,
    "start_time": "2023-06-25T12:20:35.244Z"
   },
   {
    "duration": 1327,
    "start_time": "2023-06-25T12:20:41.880Z"
   },
   {
    "duration": 95,
    "start_time": "2023-06-25T12:20:43.209Z"
   },
   {
    "duration": 42,
    "start_time": "2023-06-25T12:20:43.305Z"
   },
   {
    "duration": 3,
    "start_time": "2023-06-25T12:20:43.348Z"
   },
   {
    "duration": 27,
    "start_time": "2023-06-25T12:20:43.353Z"
   },
   {
    "duration": 20,
    "start_time": "2023-06-25T12:20:43.382Z"
   },
   {
    "duration": 9,
    "start_time": "2023-06-25T12:20:43.403Z"
   },
   {
    "duration": 11,
    "start_time": "2023-06-25T12:20:43.414Z"
   },
   {
    "duration": 29,
    "start_time": "2023-06-25T12:20:43.426Z"
   },
   {
    "duration": 9,
    "start_time": "2023-06-25T12:20:43.457Z"
   },
   {
    "duration": 28,
    "start_time": "2023-06-25T12:20:43.468Z"
   },
   {
    "duration": 18,
    "start_time": "2023-06-25T12:20:43.498Z"
   },
   {
    "duration": 14,
    "start_time": "2023-06-25T12:20:43.518Z"
   },
   {
    "duration": 24,
    "start_time": "2023-06-25T12:20:43.535Z"
   },
   {
    "duration": 16,
    "start_time": "2023-06-25T12:20:43.561Z"
   },
   {
    "duration": 6,
    "start_time": "2023-06-25T12:20:43.580Z"
   },
   {
    "duration": 12,
    "start_time": "2023-06-25T12:20:43.588Z"
   },
   {
    "duration": 217,
    "start_time": "2023-06-25T12:20:43.601Z"
   },
   {
    "duration": 11,
    "start_time": "2023-06-25T12:20:43.820Z"
   },
   {
    "duration": 163,
    "start_time": "2023-06-25T12:20:43.833Z"
   },
   {
    "duration": 11,
    "start_time": "2023-06-25T12:20:43.998Z"
   },
   {
    "duration": 34,
    "start_time": "2023-06-25T12:20:44.010Z"
   },
   {
    "duration": 380,
    "start_time": "2023-06-25T12:20:44.045Z"
   },
   {
    "duration": 263,
    "start_time": "2023-06-25T12:20:44.427Z"
   },
   {
    "duration": 328,
    "start_time": "2023-06-25T12:20:44.692Z"
   },
   {
    "duration": 10,
    "start_time": "2023-06-25T12:20:45.022Z"
   },
   {
    "duration": 246,
    "start_time": "2023-06-25T12:20:45.035Z"
   },
   {
    "duration": 13,
    "start_time": "2023-06-25T12:22:40.096Z"
   },
   {
    "duration": 1576,
    "start_time": "2023-06-25T12:26:21.409Z"
   },
   {
    "duration": 1503,
    "start_time": "2023-06-25T12:26:31.536Z"
   },
   {
    "duration": 1170,
    "start_time": "2023-06-25T12:26:48.477Z"
   },
   {
    "duration": 77,
    "start_time": "2023-06-25T12:26:49.648Z"
   },
   {
    "duration": 47,
    "start_time": "2023-06-25T12:26:49.727Z"
   },
   {
    "duration": 3,
    "start_time": "2023-06-25T12:26:49.777Z"
   },
   {
    "duration": 14,
    "start_time": "2023-06-25T12:26:49.781Z"
   },
   {
    "duration": 10,
    "start_time": "2023-06-25T12:26:49.797Z"
   },
   {
    "duration": 44,
    "start_time": "2023-06-25T12:26:49.809Z"
   },
   {
    "duration": 9,
    "start_time": "2023-06-25T12:26:49.856Z"
   },
   {
    "duration": 21,
    "start_time": "2023-06-25T12:26:49.867Z"
   },
   {
    "duration": 4,
    "start_time": "2023-06-25T12:26:49.891Z"
   },
   {
    "duration": 8,
    "start_time": "2023-06-25T12:26:49.897Z"
   },
   {
    "duration": 10,
    "start_time": "2023-06-25T12:26:49.906Z"
   },
   {
    "duration": 46,
    "start_time": "2023-06-25T12:26:49.917Z"
   },
   {
    "duration": 7,
    "start_time": "2023-06-25T12:26:49.965Z"
   },
   {
    "duration": 6,
    "start_time": "2023-06-25T12:26:49.974Z"
   },
   {
    "duration": 7,
    "start_time": "2023-06-25T12:26:49.981Z"
   },
   {
    "duration": 12,
    "start_time": "2023-06-25T12:26:49.989Z"
   },
   {
    "duration": 203,
    "start_time": "2023-06-25T12:26:50.003Z"
   },
   {
    "duration": 10,
    "start_time": "2023-06-25T12:26:50.208Z"
   },
   {
    "duration": 178,
    "start_time": "2023-06-25T12:26:50.220Z"
   },
   {
    "duration": 12,
    "start_time": "2023-06-25T12:26:50.399Z"
   },
   {
    "duration": 11,
    "start_time": "2023-06-25T12:26:50.412Z"
   },
   {
    "duration": 352,
    "start_time": "2023-06-25T12:26:50.426Z"
   },
   {
    "duration": 242,
    "start_time": "2023-06-25T12:26:50.780Z"
   },
   {
    "duration": 377,
    "start_time": "2023-06-25T12:26:51.024Z"
   },
   {
    "duration": 12,
    "start_time": "2023-06-25T12:26:51.403Z"
   },
   {
    "duration": 1604,
    "start_time": "2023-06-25T12:26:51.416Z"
   },
   {
    "duration": 234,
    "start_time": "2023-06-25T12:27:40.470Z"
   },
   {
    "duration": 205,
    "start_time": "2023-06-25T12:27:46.579Z"
   },
   {
    "duration": 103,
    "start_time": "2023-06-25T12:28:08.294Z"
   },
   {
    "duration": 278,
    "start_time": "2023-06-25T12:28:20.621Z"
   },
   {
    "duration": 1233,
    "start_time": "2023-06-25T12:28:41.785Z"
   },
   {
    "duration": 75,
    "start_time": "2023-06-25T12:28:43.020Z"
   },
   {
    "duration": 47,
    "start_time": "2023-06-25T12:28:43.096Z"
   },
   {
    "duration": 3,
    "start_time": "2023-06-25T12:28:43.145Z"
   },
   {
    "duration": 12,
    "start_time": "2023-06-25T12:28:43.150Z"
   },
   {
    "duration": 27,
    "start_time": "2023-06-25T12:28:43.165Z"
   },
   {
    "duration": 33,
    "start_time": "2023-06-25T12:28:43.194Z"
   },
   {
    "duration": 7,
    "start_time": "2023-06-25T12:28:43.229Z"
   },
   {
    "duration": 47,
    "start_time": "2023-06-25T12:28:43.238Z"
   },
   {
    "duration": 13,
    "start_time": "2023-06-25T12:28:43.286Z"
   },
   {
    "duration": 33,
    "start_time": "2023-06-25T12:28:43.300Z"
   },
   {
    "duration": 27,
    "start_time": "2023-06-25T12:28:43.334Z"
   },
   {
    "duration": 10,
    "start_time": "2023-06-25T12:28:43.363Z"
   },
   {
    "duration": 10,
    "start_time": "2023-06-25T12:28:43.376Z"
   },
   {
    "duration": 7,
    "start_time": "2023-06-25T12:28:43.387Z"
   },
   {
    "duration": 17,
    "start_time": "2023-06-25T12:28:43.396Z"
   },
   {
    "duration": 13,
    "start_time": "2023-06-25T12:28:43.415Z"
   },
   {
    "duration": 191,
    "start_time": "2023-06-25T12:28:43.429Z"
   },
   {
    "duration": 11,
    "start_time": "2023-06-25T12:28:43.621Z"
   },
   {
    "duration": 158,
    "start_time": "2023-06-25T12:28:43.634Z"
   },
   {
    "duration": 11,
    "start_time": "2023-06-25T12:28:43.793Z"
   },
   {
    "duration": 10,
    "start_time": "2023-06-25T12:28:43.805Z"
   },
   {
    "duration": 328,
    "start_time": "2023-06-25T12:28:43.817Z"
   },
   {
    "duration": 279,
    "start_time": "2023-06-25T12:28:44.147Z"
   },
   {
    "duration": 386,
    "start_time": "2023-06-25T12:28:44.429Z"
   },
   {
    "duration": 294,
    "start_time": "2023-06-25T12:28:44.817Z"
   },
   {
    "duration": 10,
    "start_time": "2023-06-25T13:19:08.192Z"
   },
   {
    "duration": 26,
    "start_time": "2023-06-25T13:19:16.843Z"
   },
   {
    "duration": 311,
    "start_time": "2023-06-25T13:20:20.445Z"
   },
   {
    "duration": 275,
    "start_time": "2023-06-25T13:21:07.377Z"
   },
   {
    "duration": 238,
    "start_time": "2023-06-25T13:21:11.279Z"
   },
   {
    "duration": 255,
    "start_time": "2023-06-25T13:21:14.009Z"
   },
   {
    "duration": 417,
    "start_time": "2023-06-25T13:21:25.089Z"
   },
   {
    "duration": 251,
    "start_time": "2023-06-25T13:21:29.835Z"
   },
   {
    "duration": 282,
    "start_time": "2023-06-25T13:21:37.213Z"
   },
   {
    "duration": 370,
    "start_time": "2023-06-25T13:21:49.844Z"
   },
   {
    "duration": 120,
    "start_time": "2023-06-25T13:41:00.184Z"
   },
   {
    "duration": 12,
    "start_time": "2023-06-25T13:43:35.597Z"
   },
   {
    "duration": 10,
    "start_time": "2023-06-25T13:44:28.602Z"
   },
   {
    "duration": 10,
    "start_time": "2023-06-25T13:45:18.883Z"
   },
   {
    "duration": 11,
    "start_time": "2023-06-25T13:45:23.484Z"
   },
   {
    "duration": 141,
    "start_time": "2023-06-25T13:46:45.928Z"
   },
   {
    "duration": 141,
    "start_time": "2023-06-25T13:46:57.386Z"
   },
   {
    "duration": 120,
    "start_time": "2023-06-25T13:47:00.083Z"
   },
   {
    "duration": 133,
    "start_time": "2023-06-25T13:48:38.082Z"
   },
   {
    "duration": 123,
    "start_time": "2023-06-25T13:48:44.584Z"
   },
   {
    "duration": 4,
    "start_time": "2023-06-25T13:53:51.743Z"
   },
   {
    "duration": 5,
    "start_time": "2023-06-25T13:55:00.297Z"
   },
   {
    "duration": 5,
    "start_time": "2023-06-25T13:57:30.077Z"
   },
   {
    "duration": 6,
    "start_time": "2023-06-25T13:57:37.282Z"
   },
   {
    "duration": 5,
    "start_time": "2023-06-25T13:57:46.595Z"
   },
   {
    "duration": 5,
    "start_time": "2023-06-25T13:57:48.618Z"
   },
   {
    "duration": 4,
    "start_time": "2023-06-25T13:57:52.209Z"
   },
   {
    "duration": 16,
    "start_time": "2023-06-25T14:09:06.624Z"
   },
   {
    "duration": 10,
    "start_time": "2023-06-25T14:10:38.894Z"
   },
   {
    "duration": 1289,
    "start_time": "2023-06-25T14:10:52.813Z"
   },
   {
    "duration": 89,
    "start_time": "2023-06-25T14:10:54.104Z"
   },
   {
    "duration": 45,
    "start_time": "2023-06-25T14:10:54.194Z"
   },
   {
    "duration": 3,
    "start_time": "2023-06-25T14:10:54.240Z"
   },
   {
    "duration": 21,
    "start_time": "2023-06-25T14:10:54.246Z"
   },
   {
    "duration": 38,
    "start_time": "2023-06-25T14:10:54.269Z"
   },
   {
    "duration": 24,
    "start_time": "2023-06-25T14:10:54.309Z"
   },
   {
    "duration": 17,
    "start_time": "2023-06-25T14:10:54.334Z"
   },
   {
    "duration": 56,
    "start_time": "2023-06-25T14:10:54.353Z"
   },
   {
    "duration": 6,
    "start_time": "2023-06-25T14:10:54.411Z"
   },
   {
    "duration": 26,
    "start_time": "2023-06-25T14:10:54.419Z"
   },
   {
    "duration": 30,
    "start_time": "2023-06-25T14:10:54.447Z"
   },
   {
    "duration": 20,
    "start_time": "2023-06-25T14:10:54.479Z"
   },
   {
    "duration": 14,
    "start_time": "2023-06-25T14:10:54.503Z"
   },
   {
    "duration": 23,
    "start_time": "2023-06-25T14:10:54.520Z"
   },
   {
    "duration": 19,
    "start_time": "2023-06-25T14:10:54.545Z"
   },
   {
    "duration": 23,
    "start_time": "2023-06-25T14:10:54.566Z"
   },
   {
    "duration": 236,
    "start_time": "2023-06-25T14:10:54.593Z"
   },
   {
    "duration": 23,
    "start_time": "2023-06-25T14:10:54.830Z"
   },
   {
    "duration": 164,
    "start_time": "2023-06-25T14:10:54.856Z"
   },
   {
    "duration": 11,
    "start_time": "2023-06-25T14:10:55.022Z"
   },
   {
    "duration": 32,
    "start_time": "2023-06-25T14:10:55.035Z"
   },
   {
    "duration": 372,
    "start_time": "2023-06-25T14:10:55.069Z"
   },
   {
    "duration": 300,
    "start_time": "2023-06-25T14:10:55.443Z"
   },
   {
    "duration": 382,
    "start_time": "2023-06-25T14:10:55.744Z"
   },
   {
    "duration": 312,
    "start_time": "2023-06-25T14:10:56.128Z"
   },
   {
    "duration": 373,
    "start_time": "2023-06-25T14:10:56.442Z"
   },
   {
    "duration": 12,
    "start_time": "2023-06-25T14:10:56.817Z"
   },
   {
    "duration": 149,
    "start_time": "2023-06-25T14:10:56.831Z"
   },
   {
    "duration": 123,
    "start_time": "2023-06-25T14:10:56.988Z"
   },
   {
    "duration": 4,
    "start_time": "2023-06-25T14:10:57.113Z"
   },
   {
    "duration": 13,
    "start_time": "2023-06-25T14:10:57.120Z"
   },
   {
    "duration": 12,
    "start_time": "2023-06-25T14:10:57.156Z"
   },
   {
    "duration": 1860,
    "start_time": "2023-06-25T14:10:57.170Z"
   },
   {
    "duration": 15,
    "start_time": "2023-06-25T14:12:26.451Z"
   },
   {
    "duration": 198,
    "start_time": "2023-06-25T14:12:37.344Z"
   },
   {
    "duration": 265,
    "start_time": "2023-06-25T14:12:46.584Z"
   },
   {
    "duration": 154,
    "start_time": "2023-06-25T14:13:25.971Z"
   },
   {
    "duration": 135,
    "start_time": "2023-06-25T14:13:55.300Z"
   },
   {
    "duration": 6,
    "start_time": "2023-06-25T14:18:37.540Z"
   },
   {
    "duration": 20,
    "start_time": "2023-06-25T14:24:26.391Z"
   },
   {
    "duration": 12,
    "start_time": "2023-06-25T14:25:55.400Z"
   },
   {
    "duration": 7,
    "start_time": "2023-06-25T14:26:42.123Z"
   },
   {
    "duration": 12,
    "start_time": "2023-06-25T14:27:53.729Z"
   },
   {
    "duration": 11,
    "start_time": "2023-06-25T14:28:25.012Z"
   },
   {
    "duration": 10,
    "start_time": "2023-06-25T14:28:29.690Z"
   },
   {
    "duration": 1159,
    "start_time": "2023-06-25T14:29:11.649Z"
   },
   {
    "duration": 80,
    "start_time": "2023-06-25T14:29:12.810Z"
   },
   {
    "duration": 43,
    "start_time": "2023-06-25T14:29:12.891Z"
   },
   {
    "duration": 3,
    "start_time": "2023-06-25T14:29:12.937Z"
   },
   {
    "duration": 10,
    "start_time": "2023-06-25T14:29:12.941Z"
   },
   {
    "duration": 19,
    "start_time": "2023-06-25T14:29:12.953Z"
   },
   {
    "duration": 8,
    "start_time": "2023-06-25T14:29:12.974Z"
   },
   {
    "duration": 7,
    "start_time": "2023-06-25T14:29:12.984Z"
   },
   {
    "duration": 25,
    "start_time": "2023-06-25T14:29:12.992Z"
   },
   {
    "duration": 4,
    "start_time": "2023-06-25T14:29:13.020Z"
   },
   {
    "duration": 17,
    "start_time": "2023-06-25T14:29:13.053Z"
   },
   {
    "duration": 9,
    "start_time": "2023-06-25T14:29:13.072Z"
   },
   {
    "duration": 8,
    "start_time": "2023-06-25T14:29:13.083Z"
   },
   {
    "duration": 14,
    "start_time": "2023-06-25T14:29:13.092Z"
   },
   {
    "duration": 6,
    "start_time": "2023-06-25T14:29:13.107Z"
   },
   {
    "duration": 6,
    "start_time": "2023-06-25T14:29:13.115Z"
   },
   {
    "duration": 48,
    "start_time": "2023-06-25T14:29:13.122Z"
   },
   {
    "duration": 168,
    "start_time": "2023-06-25T14:29:13.172Z"
   },
   {
    "duration": 29,
    "start_time": "2023-06-25T14:29:13.342Z"
   },
   {
    "duration": 128,
    "start_time": "2023-06-25T14:29:13.372Z"
   },
   {
    "duration": 9,
    "start_time": "2023-06-25T14:29:13.502Z"
   },
   {
    "duration": 9,
    "start_time": "2023-06-25T14:29:13.513Z"
   },
   {
    "duration": 375,
    "start_time": "2023-06-25T14:29:13.523Z"
   },
   {
    "duration": 247,
    "start_time": "2023-06-25T14:29:13.900Z"
   },
   {
    "duration": 357,
    "start_time": "2023-06-25T14:29:14.148Z"
   },
   {
    "duration": 247,
    "start_time": "2023-06-25T14:29:14.506Z"
   },
   {
    "duration": 353,
    "start_time": "2023-06-25T14:29:14.756Z"
   },
   {
    "duration": 9,
    "start_time": "2023-06-25T14:29:15.112Z"
   },
   {
    "duration": 141,
    "start_time": "2023-06-25T14:29:15.123Z"
   },
   {
    "duration": 140,
    "start_time": "2023-06-25T14:29:15.266Z"
   },
   {
    "duration": 5,
    "start_time": "2023-06-25T14:29:15.408Z"
   },
   {
    "duration": 155,
    "start_time": "2023-06-25T14:29:15.415Z"
   },
   {
    "duration": 224,
    "start_time": "2023-06-25T14:29:15.572Z"
   },
   {
    "duration": 4,
    "start_time": "2023-06-25T14:29:15.797Z"
   },
   {
    "duration": 11,
    "start_time": "2023-06-25T14:29:15.803Z"
   },
   {
    "duration": 1890,
    "start_time": "2023-06-25T14:29:15.815Z"
   },
   {
    "duration": 12,
    "start_time": "2023-06-25T14:29:36.303Z"
   },
   {
    "duration": 149,
    "start_time": "2023-06-25T14:34:24.601Z"
   },
   {
    "duration": 1729,
    "start_time": "2023-06-25T14:34:27.489Z"
   },
   {
    "duration": 10,
    "start_time": "2023-06-25T14:34:42.593Z"
   },
   {
    "duration": 18,
    "start_time": "2023-06-25T14:35:34.814Z"
   },
   {
    "duration": 158,
    "start_time": "2023-06-25T14:36:15.901Z"
   },
   {
    "duration": 10,
    "start_time": "2023-06-25T14:36:48.191Z"
   },
   {
    "duration": 1789,
    "start_time": "2023-06-25T14:37:03.335Z"
   },
   {
    "duration": 16,
    "start_time": "2023-06-25T14:39:02.248Z"
   },
   {
    "duration": 9,
    "start_time": "2023-06-25T14:41:25.680Z"
   },
   {
    "duration": 15,
    "start_time": "2023-06-25T14:41:42.789Z"
   },
   {
    "duration": 11,
    "start_time": "2023-06-25T14:51:01.122Z"
   },
   {
    "duration": 377,
    "start_time": "2023-06-25T14:56:21.542Z"
   },
   {
    "duration": 1240,
    "start_time": "2023-06-25T14:56:52.690Z"
   },
   {
    "duration": 94,
    "start_time": "2023-06-25T14:56:53.932Z"
   },
   {
    "duration": 52,
    "start_time": "2023-06-25T14:56:54.028Z"
   },
   {
    "duration": 3,
    "start_time": "2023-06-25T14:56:54.083Z"
   },
   {
    "duration": 15,
    "start_time": "2023-06-25T14:56:54.089Z"
   },
   {
    "duration": 15,
    "start_time": "2023-06-25T14:56:54.106Z"
   },
   {
    "duration": 42,
    "start_time": "2023-06-25T14:56:54.123Z"
   },
   {
    "duration": 8,
    "start_time": "2023-06-25T14:56:54.170Z"
   },
   {
    "duration": 22,
    "start_time": "2023-06-25T14:56:54.180Z"
   },
   {
    "duration": 4,
    "start_time": "2023-06-25T14:56:54.205Z"
   },
   {
    "duration": 13,
    "start_time": "2023-06-25T14:56:54.211Z"
   },
   {
    "duration": 14,
    "start_time": "2023-06-25T14:56:54.261Z"
   },
   {
    "duration": 12,
    "start_time": "2023-06-25T14:56:54.277Z"
   },
   {
    "duration": 16,
    "start_time": "2023-06-25T14:56:54.291Z"
   },
   {
    "duration": 8,
    "start_time": "2023-06-25T14:56:54.308Z"
   },
   {
    "duration": 27,
    "start_time": "2023-06-25T14:56:54.317Z"
   },
   {
    "duration": 24,
    "start_time": "2023-06-25T14:56:54.345Z"
   },
   {
    "duration": 207,
    "start_time": "2023-06-25T14:56:54.370Z"
   },
   {
    "duration": 11,
    "start_time": "2023-06-25T14:56:54.579Z"
   },
   {
    "duration": 151,
    "start_time": "2023-06-25T14:56:54.592Z"
   },
   {
    "duration": 26,
    "start_time": "2023-06-25T14:56:54.745Z"
   },
   {
    "duration": 16,
    "start_time": "2023-06-25T14:56:54.774Z"
   },
   {
    "duration": 328,
    "start_time": "2023-06-25T14:56:54.792Z"
   },
   {
    "duration": 226,
    "start_time": "2023-06-25T14:56:55.122Z"
   },
   {
    "duration": 335,
    "start_time": "2023-06-25T14:56:55.354Z"
   },
   {
    "duration": 241,
    "start_time": "2023-06-25T14:56:55.691Z"
   },
   {
    "duration": 345,
    "start_time": "2023-06-25T14:56:55.934Z"
   },
   {
    "duration": 10,
    "start_time": "2023-06-25T14:56:56.283Z"
   },
   {
    "duration": 129,
    "start_time": "2023-06-25T14:56:56.295Z"
   },
   {
    "duration": 138,
    "start_time": "2023-06-25T14:56:56.426Z"
   },
   {
    "duration": 5,
    "start_time": "2023-06-25T14:56:56.571Z"
   },
   {
    "duration": 160,
    "start_time": "2023-06-25T14:56:56.578Z"
   },
   {
    "duration": 252,
    "start_time": "2023-06-25T14:56:56.740Z"
   },
   {
    "duration": 4,
    "start_time": "2023-06-25T14:56:56.994Z"
   },
   {
    "duration": 615,
    "start_time": "2023-06-25T14:56:57.000Z"
   },
   {
    "duration": 117,
    "start_time": "2023-06-25T14:57:22.372Z"
   },
   {
    "duration": 8,
    "start_time": "2023-06-25T15:08:00.328Z"
   },
   {
    "duration": 1348,
    "start_time": "2023-06-25T15:08:12.888Z"
   },
   {
    "duration": 93,
    "start_time": "2023-06-25T15:08:14.238Z"
   },
   {
    "duration": 67,
    "start_time": "2023-06-25T15:08:14.333Z"
   },
   {
    "duration": 4,
    "start_time": "2023-06-25T15:08:14.402Z"
   },
   {
    "duration": 9,
    "start_time": "2023-06-25T15:08:14.408Z"
   },
   {
    "duration": 13,
    "start_time": "2023-06-25T15:08:14.419Z"
   },
   {
    "duration": 32,
    "start_time": "2023-06-25T15:08:14.434Z"
   },
   {
    "duration": 10,
    "start_time": "2023-06-25T15:08:14.469Z"
   },
   {
    "duration": 33,
    "start_time": "2023-06-25T15:08:14.481Z"
   },
   {
    "duration": 4,
    "start_time": "2023-06-25T15:08:14.516Z"
   },
   {
    "duration": 11,
    "start_time": "2023-06-25T15:08:14.522Z"
   },
   {
    "duration": 14,
    "start_time": "2023-06-25T15:08:14.559Z"
   },
   {
    "duration": 11,
    "start_time": "2023-06-25T15:08:14.575Z"
   },
   {
    "duration": 7,
    "start_time": "2023-06-25T15:08:14.588Z"
   },
   {
    "duration": 13,
    "start_time": "2023-06-25T15:08:14.597Z"
   },
   {
    "duration": 7,
    "start_time": "2023-06-25T15:08:14.611Z"
   },
   {
    "duration": 45,
    "start_time": "2023-06-25T15:08:14.619Z"
   },
   {
    "duration": 244,
    "start_time": "2023-06-25T15:08:14.667Z"
   },
   {
    "duration": 15,
    "start_time": "2023-06-25T15:08:14.914Z"
   },
   {
    "duration": 161,
    "start_time": "2023-06-25T15:08:14.931Z"
   },
   {
    "duration": 20,
    "start_time": "2023-06-25T15:08:15.096Z"
   },
   {
    "duration": 27,
    "start_time": "2023-06-25T15:08:15.118Z"
   },
   {
    "duration": 492,
    "start_time": "2023-06-25T15:08:15.147Z"
   },
   {
    "duration": 297,
    "start_time": "2023-06-25T15:08:15.641Z"
   },
   {
    "duration": 388,
    "start_time": "2023-06-25T15:08:15.940Z"
   },
   {
    "duration": 345,
    "start_time": "2023-06-25T15:08:16.331Z"
   },
   {
    "duration": 356,
    "start_time": "2023-06-25T15:08:16.679Z"
   },
   {
    "duration": 9,
    "start_time": "2023-06-25T15:08:17.038Z"
   },
   {
    "duration": 142,
    "start_time": "2023-06-25T15:08:17.055Z"
   },
   {
    "duration": 156,
    "start_time": "2023-06-25T15:08:17.202Z"
   },
   {
    "duration": 18,
    "start_time": "2023-06-25T15:08:17.365Z"
   },
   {
    "duration": 184,
    "start_time": "2023-06-25T15:08:17.387Z"
   },
   {
    "duration": 270,
    "start_time": "2023-06-25T15:08:17.573Z"
   },
   {
    "duration": 20,
    "start_time": "2023-06-25T15:08:17.845Z"
   },
   {
    "duration": 139,
    "start_time": "2023-06-25T15:08:17.867Z"
   },
   {
    "duration": 0,
    "start_time": "2023-06-25T15:08:18.008Z"
   },
   {
    "duration": 139,
    "start_time": "2023-06-25T15:10:41.112Z"
   },
   {
    "duration": 146,
    "start_time": "2023-06-25T15:11:56.172Z"
   },
   {
    "duration": 265,
    "start_time": "2023-06-25T15:13:06.097Z"
   },
   {
    "duration": 167,
    "start_time": "2023-06-25T15:14:43.492Z"
   },
   {
    "duration": 295,
    "start_time": "2023-06-25T15:15:06.680Z"
   },
   {
    "duration": 175,
    "start_time": "2023-06-25T15:17:15.132Z"
   },
   {
    "duration": 17,
    "start_time": "2023-06-25T15:18:07.312Z"
   },
   {
    "duration": 7,
    "start_time": "2023-06-25T15:18:32.280Z"
   },
   {
    "duration": 6,
    "start_time": "2023-06-25T15:18:41.893Z"
   },
   {
    "duration": 203,
    "start_time": "2023-06-25T15:22:13.699Z"
   },
   {
    "duration": 28,
    "start_time": "2023-06-25T15:36:16.950Z"
   },
   {
    "duration": 151,
    "start_time": "2023-06-25T15:38:19.672Z"
   },
   {
    "duration": 2080,
    "start_time": "2023-06-25T15:43:23.301Z"
   },
   {
    "duration": 14,
    "start_time": "2023-06-25T15:43:52.072Z"
   },
   {
    "duration": 138,
    "start_time": "2023-06-25T15:45:31.439Z"
   },
   {
    "duration": 120,
    "start_time": "2023-06-25T15:45:38.717Z"
   },
   {
    "duration": 131,
    "start_time": "2023-06-25T15:46:03.649Z"
   },
   {
    "duration": 10,
    "start_time": "2023-06-25T15:46:11.406Z"
   },
   {
    "duration": 9,
    "start_time": "2023-06-25T15:46:18.800Z"
   },
   {
    "duration": 18,
    "start_time": "2023-06-25T15:46:29.453Z"
   },
   {
    "duration": 10,
    "start_time": "2023-06-25T15:47:36.820Z"
   },
   {
    "duration": 48,
    "start_time": "2023-06-25T15:48:02.548Z"
   },
   {
    "duration": 2149,
    "start_time": "2023-06-25T15:50:26.175Z"
   },
   {
    "duration": 14,
    "start_time": "2023-06-25T15:50:45.993Z"
   },
   {
    "duration": 1274,
    "start_time": "2023-06-26T07:07:27.718Z"
   },
   {
    "duration": 254,
    "start_time": "2023-06-26T07:07:28.994Z"
   },
   {
    "duration": 50,
    "start_time": "2023-06-26T07:07:29.250Z"
   },
   {
    "duration": 3,
    "start_time": "2023-06-26T07:07:29.302Z"
   },
   {
    "duration": 11,
    "start_time": "2023-06-26T07:07:29.307Z"
   },
   {
    "duration": 12,
    "start_time": "2023-06-26T07:07:29.320Z"
   },
   {
    "duration": 45,
    "start_time": "2023-06-26T07:07:29.333Z"
   },
   {
    "duration": 5,
    "start_time": "2023-06-26T07:07:29.380Z"
   },
   {
    "duration": 36,
    "start_time": "2023-06-26T07:07:29.387Z"
   },
   {
    "duration": 4,
    "start_time": "2023-06-26T07:07:29.426Z"
   },
   {
    "duration": 10,
    "start_time": "2023-06-26T07:07:29.432Z"
   },
   {
    "duration": 14,
    "start_time": "2023-06-26T07:07:29.443Z"
   },
   {
    "duration": 9,
    "start_time": "2023-06-26T07:07:29.474Z"
   },
   {
    "duration": 16,
    "start_time": "2023-06-26T07:07:29.484Z"
   },
   {
    "duration": 7,
    "start_time": "2023-06-26T07:07:29.502Z"
   },
   {
    "duration": 8,
    "start_time": "2023-06-26T07:07:29.511Z"
   },
   {
    "duration": 22,
    "start_time": "2023-06-26T07:07:29.521Z"
   },
   {
    "duration": 169,
    "start_time": "2023-06-26T07:07:29.545Z"
   },
   {
    "duration": 11,
    "start_time": "2023-06-26T07:07:29.715Z"
   },
   {
    "duration": 189,
    "start_time": "2023-06-26T07:07:29.728Z"
   },
   {
    "duration": 10,
    "start_time": "2023-06-26T07:07:29.919Z"
   },
   {
    "duration": 16,
    "start_time": "2023-06-26T07:07:29.931Z"
   },
   {
    "duration": 318,
    "start_time": "2023-06-26T07:07:29.948Z"
   },
   {
    "duration": 220,
    "start_time": "2023-06-26T07:07:30.268Z"
   },
   {
    "duration": 361,
    "start_time": "2023-06-26T07:07:30.490Z"
   },
   {
    "duration": 207,
    "start_time": "2023-06-26T07:07:30.852Z"
   },
   {
    "duration": 317,
    "start_time": "2023-06-26T07:07:31.060Z"
   },
   {
    "duration": 8,
    "start_time": "2023-06-26T07:07:31.381Z"
   },
   {
    "duration": 122,
    "start_time": "2023-06-26T07:07:31.391Z"
   },
   {
    "duration": 121,
    "start_time": "2023-06-26T07:07:31.515Z"
   },
   {
    "duration": 4,
    "start_time": "2023-06-26T07:07:31.638Z"
   },
   {
    "duration": 177,
    "start_time": "2023-06-26T07:07:31.644Z"
   },
   {
    "duration": 214,
    "start_time": "2023-06-26T07:07:31.823Z"
   },
   {
    "duration": 5,
    "start_time": "2023-06-26T07:07:32.038Z"
   },
   {
    "duration": 313,
    "start_time": "2023-06-26T07:07:32.044Z"
   },
   {
    "duration": 154,
    "start_time": "2023-06-26T07:07:32.359Z"
   },
   {
    "duration": 6,
    "start_time": "2023-06-26T07:07:32.515Z"
   },
   {
    "duration": 165,
    "start_time": "2023-06-26T07:07:32.523Z"
   },
   {
    "duration": 10,
    "start_time": "2023-06-26T07:07:32.690Z"
   },
   {
    "duration": 24,
    "start_time": "2023-06-26T07:07:32.701Z"
   },
   {
    "duration": 36,
    "start_time": "2023-06-26T07:07:32.726Z"
   },
   {
    "duration": 55,
    "start_time": "2023-06-26T07:07:32.764Z"
   },
   {
    "duration": 21,
    "start_time": "2023-06-26T07:07:32.821Z"
   },
   {
    "duration": 53,
    "start_time": "2023-06-26T09:29:41.502Z"
   },
   {
    "duration": 1348,
    "start_time": "2023-06-26T09:29:49.355Z"
   },
   {
    "duration": 189,
    "start_time": "2023-06-26T09:29:50.705Z"
   },
   {
    "duration": 44,
    "start_time": "2023-06-26T09:29:50.896Z"
   },
   {
    "duration": 4,
    "start_time": "2023-06-26T09:29:50.941Z"
   },
   {
    "duration": 16,
    "start_time": "2023-06-26T09:29:50.947Z"
   },
   {
    "duration": 14,
    "start_time": "2023-06-26T09:29:50.965Z"
   },
   {
    "duration": 23,
    "start_time": "2023-06-26T09:29:50.980Z"
   },
   {
    "duration": 6,
    "start_time": "2023-06-26T09:29:51.005Z"
   },
   {
    "duration": 34,
    "start_time": "2023-06-26T09:29:51.012Z"
   },
   {
    "duration": 4,
    "start_time": "2023-06-26T09:29:51.055Z"
   },
   {
    "duration": 20,
    "start_time": "2023-06-26T09:29:51.060Z"
   },
   {
    "duration": 18,
    "start_time": "2023-06-26T09:29:51.082Z"
   },
   {
    "duration": 12,
    "start_time": "2023-06-26T09:29:51.102Z"
   },
   {
    "duration": 16,
    "start_time": "2023-06-26T09:29:51.117Z"
   },
   {
    "duration": 8,
    "start_time": "2023-06-26T09:29:51.135Z"
   },
   {
    "duration": 10,
    "start_time": "2023-06-26T09:29:51.145Z"
   },
   {
    "duration": 10,
    "start_time": "2023-06-26T09:29:51.157Z"
   },
   {
    "duration": 177,
    "start_time": "2023-06-26T09:29:51.168Z"
   },
   {
    "duration": 15,
    "start_time": "2023-06-26T09:29:51.347Z"
   },
   {
    "duration": 132,
    "start_time": "2023-06-26T09:29:51.363Z"
   },
   {
    "duration": 24,
    "start_time": "2023-06-26T09:29:51.497Z"
   },
   {
    "duration": 19,
    "start_time": "2023-06-26T09:29:51.523Z"
   },
   {
    "duration": 304,
    "start_time": "2023-06-26T09:29:51.543Z"
   },
   {
    "duration": 217,
    "start_time": "2023-06-26T09:29:51.848Z"
   },
   {
    "duration": 362,
    "start_time": "2023-06-26T09:29:52.066Z"
   },
   {
    "duration": 230,
    "start_time": "2023-06-26T09:29:52.430Z"
   },
   {
    "duration": 329,
    "start_time": "2023-06-26T09:29:52.662Z"
   },
   {
    "duration": 9,
    "start_time": "2023-06-26T09:29:52.993Z"
   },
   {
    "duration": 123,
    "start_time": "2023-06-26T09:29:53.004Z"
   },
   {
    "duration": 132,
    "start_time": "2023-06-26T09:29:53.128Z"
   },
   {
    "duration": 4,
    "start_time": "2023-06-26T09:29:53.261Z"
   },
   {
    "duration": 143,
    "start_time": "2023-06-26T09:29:53.267Z"
   },
   {
    "duration": 213,
    "start_time": "2023-06-26T09:29:53.412Z"
   },
   {
    "duration": 4,
    "start_time": "2023-06-26T09:29:53.627Z"
   },
   {
    "duration": 234,
    "start_time": "2023-06-26T09:29:53.632Z"
   },
   {
    "duration": 145,
    "start_time": "2023-06-26T09:29:53.868Z"
   },
   {
    "duration": 6,
    "start_time": "2023-06-26T09:29:54.014Z"
   },
   {
    "duration": 168,
    "start_time": "2023-06-26T09:29:54.021Z"
   },
   {
    "duration": 11,
    "start_time": "2023-06-26T09:29:54.190Z"
   },
   {
    "duration": 25,
    "start_time": "2023-06-26T09:29:54.202Z"
   },
   {
    "duration": 10,
    "start_time": "2023-06-26T09:29:54.231Z"
   },
   {
    "duration": 27,
    "start_time": "2023-06-26T09:29:54.243Z"
   },
   {
    "duration": 38,
    "start_time": "2023-06-26T09:29:54.272Z"
   },
   {
    "duration": 210,
    "start_time": "2023-06-26T09:31:18.328Z"
   },
   {
    "duration": 214,
    "start_time": "2023-06-26T09:31:21.854Z"
   },
   {
    "duration": 197,
    "start_time": "2023-06-26T09:31:34.143Z"
   },
   {
    "duration": 260,
    "start_time": "2023-06-26T09:31:37.231Z"
   },
   {
    "duration": 66,
    "start_time": "2023-06-26T15:03:04.481Z"
   },
   {
    "duration": 1629,
    "start_time": "2023-06-26T15:03:12.193Z"
   },
   {
    "duration": 227,
    "start_time": "2023-06-26T15:03:13.825Z"
   },
   {
    "duration": 101,
    "start_time": "2023-06-26T15:03:14.055Z"
   },
   {
    "duration": 197,
    "start_time": "2023-06-26T15:03:14.159Z"
   },
   {
    "duration": 0,
    "start_time": "2023-06-26T15:03:14.362Z"
   },
   {
    "duration": 0,
    "start_time": "2023-06-26T15:03:14.364Z"
   },
   {
    "duration": 0,
    "start_time": "2023-06-26T15:03:14.366Z"
   },
   {
    "duration": 0,
    "start_time": "2023-06-26T15:03:14.368Z"
   },
   {
    "duration": 0,
    "start_time": "2023-06-26T15:03:14.370Z"
   },
   {
    "duration": 0,
    "start_time": "2023-06-26T15:03:14.372Z"
   },
   {
    "duration": 0,
    "start_time": "2023-06-26T15:03:14.374Z"
   },
   {
    "duration": 0,
    "start_time": "2023-06-26T15:03:14.376Z"
   },
   {
    "duration": 0,
    "start_time": "2023-06-26T15:03:14.378Z"
   },
   {
    "duration": 0,
    "start_time": "2023-06-26T15:03:14.409Z"
   },
   {
    "duration": 0,
    "start_time": "2023-06-26T15:03:14.411Z"
   },
   {
    "duration": 0,
    "start_time": "2023-06-26T15:03:14.419Z"
   },
   {
    "duration": 0,
    "start_time": "2023-06-26T15:03:14.420Z"
   },
   {
    "duration": 0,
    "start_time": "2023-06-26T15:03:14.423Z"
   },
   {
    "duration": 0,
    "start_time": "2023-06-26T15:03:14.424Z"
   },
   {
    "duration": 0,
    "start_time": "2023-06-26T15:03:14.426Z"
   },
   {
    "duration": 0,
    "start_time": "2023-06-26T15:03:14.428Z"
   },
   {
    "duration": 0,
    "start_time": "2023-06-26T15:03:14.429Z"
   },
   {
    "duration": 0,
    "start_time": "2023-06-26T15:03:14.431Z"
   },
   {
    "duration": 0,
    "start_time": "2023-06-26T15:03:14.434Z"
   },
   {
    "duration": 0,
    "start_time": "2023-06-26T15:03:14.438Z"
   },
   {
    "duration": 0,
    "start_time": "2023-06-26T15:03:14.439Z"
   },
   {
    "duration": 0,
    "start_time": "2023-06-26T15:03:14.440Z"
   },
   {
    "duration": 0,
    "start_time": "2023-06-26T15:03:14.442Z"
   },
   {
    "duration": 0,
    "start_time": "2023-06-26T15:03:14.443Z"
   },
   {
    "duration": 0,
    "start_time": "2023-06-26T15:03:14.444Z"
   },
   {
    "duration": 0,
    "start_time": "2023-06-26T15:03:14.445Z"
   },
   {
    "duration": 0,
    "start_time": "2023-06-26T15:03:14.446Z"
   },
   {
    "duration": 0,
    "start_time": "2023-06-26T15:03:14.448Z"
   },
   {
    "duration": 0,
    "start_time": "2023-06-26T15:03:14.449Z"
   },
   {
    "duration": 0,
    "start_time": "2023-06-26T15:03:14.450Z"
   },
   {
    "duration": 0,
    "start_time": "2023-06-26T15:03:14.452Z"
   },
   {
    "duration": 0,
    "start_time": "2023-06-26T15:03:14.453Z"
   },
   {
    "duration": 0,
    "start_time": "2023-06-26T15:03:14.510Z"
   },
   {
    "duration": 0,
    "start_time": "2023-06-26T15:03:14.512Z"
   },
   {
    "duration": 0,
    "start_time": "2023-06-26T15:03:14.514Z"
   },
   {
    "duration": 0,
    "start_time": "2023-06-26T15:03:14.516Z"
   },
   {
    "duration": 0,
    "start_time": "2023-06-26T15:03:14.519Z"
   },
   {
    "duration": 0,
    "start_time": "2023-06-26T15:03:14.521Z"
   },
   {
    "duration": 0,
    "start_time": "2023-06-26T15:03:14.523Z"
   },
   {
    "duration": 12,
    "start_time": "2023-06-26T15:03:43.409Z"
   },
   {
    "duration": 13,
    "start_time": "2023-06-26T15:03:53.456Z"
   },
   {
    "duration": 3,
    "start_time": "2023-06-26T15:04:11.856Z"
   },
   {
    "duration": 5,
    "start_time": "2023-06-26T15:04:33.060Z"
   },
   {
    "duration": 54,
    "start_time": "2023-06-26T15:04:34.012Z"
   },
   {
    "duration": 1413,
    "start_time": "2023-06-26T15:04:44.993Z"
   },
   {
    "duration": 84,
    "start_time": "2023-06-26T15:04:46.409Z"
   },
   {
    "duration": 4,
    "start_time": "2023-06-26T15:04:46.495Z"
   },
   {
    "duration": 74,
    "start_time": "2023-06-26T15:04:46.502Z"
   },
   {
    "duration": 6,
    "start_time": "2023-06-26T15:04:46.578Z"
   },
   {
    "duration": 40,
    "start_time": "2023-06-26T15:04:46.587Z"
   },
   {
    "duration": 35,
    "start_time": "2023-06-26T15:04:46.630Z"
   },
   {
    "duration": 24,
    "start_time": "2023-06-26T15:04:46.668Z"
   },
   {
    "duration": 34,
    "start_time": "2023-06-26T15:04:46.694Z"
   },
   {
    "duration": 42,
    "start_time": "2023-06-26T15:04:46.731Z"
   },
   {
    "duration": 13,
    "start_time": "2023-06-26T15:04:46.777Z"
   },
   {
    "duration": 24,
    "start_time": "2023-06-26T15:04:46.792Z"
   },
   {
    "duration": 29,
    "start_time": "2023-06-26T15:04:46.818Z"
   },
   {
    "duration": 30,
    "start_time": "2023-06-26T15:04:46.850Z"
   },
   {
    "duration": 25,
    "start_time": "2023-06-26T15:04:46.884Z"
   },
   {
    "duration": 27,
    "start_time": "2023-06-26T15:04:46.912Z"
   },
   {
    "duration": 17,
    "start_time": "2023-06-26T15:04:46.941Z"
   },
   {
    "duration": 39,
    "start_time": "2023-06-26T15:04:46.961Z"
   },
   {
    "duration": 213,
    "start_time": "2023-06-26T15:04:47.002Z"
   },
   {
    "duration": 17,
    "start_time": "2023-06-26T15:04:47.217Z"
   },
   {
    "duration": 173,
    "start_time": "2023-06-26T15:04:47.236Z"
   },
   {
    "duration": 38,
    "start_time": "2023-06-26T15:04:47.411Z"
   },
   {
    "duration": 35,
    "start_time": "2023-06-26T15:04:47.451Z"
   },
   {
    "duration": 341,
    "start_time": "2023-06-26T15:04:47.488Z"
   },
   {
    "duration": 286,
    "start_time": "2023-06-26T15:04:47.831Z"
   },
   {
    "duration": 359,
    "start_time": "2023-06-26T15:04:48.119Z"
   },
   {
    "duration": 332,
    "start_time": "2023-06-26T15:04:48.480Z"
   },
   {
    "duration": 342,
    "start_time": "2023-06-26T15:04:48.818Z"
   },
   {
    "duration": 12,
    "start_time": "2023-06-26T15:04:49.163Z"
   },
   {
    "duration": 179,
    "start_time": "2023-06-26T15:04:49.177Z"
   },
   {
    "duration": 195,
    "start_time": "2023-06-26T15:04:49.359Z"
   },
   {
    "duration": 7,
    "start_time": "2023-06-26T15:04:49.555Z"
   },
   {
    "duration": 377,
    "start_time": "2023-06-26T15:04:49.564Z"
   },
   {
    "duration": 687,
    "start_time": "2023-06-26T15:04:49.944Z"
   },
   {
    "duration": 7,
    "start_time": "2023-06-26T15:04:50.634Z"
   },
   {
    "duration": 968,
    "start_time": "2023-06-26T15:04:50.647Z"
   },
   {
    "duration": 492,
    "start_time": "2023-06-26T15:04:51.619Z"
   },
   {
    "duration": 9,
    "start_time": "2023-06-26T15:04:52.114Z"
   },
   {
    "duration": 186,
    "start_time": "2023-06-26T15:04:52.126Z"
   },
   {
    "duration": 13,
    "start_time": "2023-06-26T15:04:52.315Z"
   },
   {
    "duration": 54,
    "start_time": "2023-06-26T15:04:52.331Z"
   },
   {
    "duration": 44,
    "start_time": "2023-06-26T15:04:52.387Z"
   },
   {
    "duration": 96,
    "start_time": "2023-06-26T15:04:52.433Z"
   },
   {
    "duration": 72,
    "start_time": "2023-06-26T15:04:52.532Z"
   },
   {
    "duration": 14,
    "start_time": "2023-06-26T15:14:11.594Z"
   },
   {
    "duration": 7,
    "start_time": "2023-06-26T15:15:54.379Z"
   },
   {
    "duration": 67,
    "start_time": "2023-06-26T15:16:44.926Z"
   },
   {
    "duration": 13,
    "start_time": "2023-06-26T15:17:06.701Z"
   },
   {
    "duration": 111,
    "start_time": "2023-06-26T15:17:33.280Z"
   },
   {
    "duration": 10,
    "start_time": "2023-06-26T15:17:44.661Z"
   },
   {
    "duration": 11,
    "start_time": "2023-06-26T15:17:54.959Z"
   },
   {
    "duration": 17,
    "start_time": "2023-06-26T15:23:38.405Z"
   },
   {
    "duration": 14,
    "start_time": "2023-06-26T15:24:09.438Z"
   },
   {
    "duration": 11,
    "start_time": "2023-06-26T15:24:22.244Z"
   },
   {
    "duration": 27,
    "start_time": "2023-06-26T15:24:39.934Z"
   },
   {
    "duration": 14,
    "start_time": "2023-06-26T15:24:45.473Z"
   },
   {
    "duration": 11,
    "start_time": "2023-06-26T15:24:50.855Z"
   },
   {
    "duration": 14,
    "start_time": "2023-06-26T15:25:20.635Z"
   },
   {
    "duration": 12,
    "start_time": "2023-06-26T15:25:26.185Z"
   },
   {
    "duration": 11,
    "start_time": "2023-06-26T15:25:28.440Z"
   },
   {
    "duration": 31,
    "start_time": "2023-06-26T15:26:12.007Z"
   },
   {
    "duration": 21,
    "start_time": "2023-06-26T15:26:18.245Z"
   },
   {
    "duration": 13,
    "start_time": "2023-06-26T15:27:00.437Z"
   },
   {
    "duration": 12,
    "start_time": "2023-06-26T15:27:08.451Z"
   },
   {
    "duration": 17,
    "start_time": "2023-06-26T15:27:15.367Z"
   },
   {
    "duration": 18,
    "start_time": "2023-06-26T15:27:45.941Z"
   },
   {
    "duration": 10,
    "start_time": "2023-06-26T15:28:07.489Z"
   },
   {
    "duration": 15,
    "start_time": "2023-06-26T15:28:15.456Z"
   },
   {
    "duration": 13,
    "start_time": "2023-06-26T15:28:23.761Z"
   },
   {
    "duration": 14,
    "start_time": "2023-06-26T15:28:37.272Z"
   },
   {
    "duration": 11,
    "start_time": "2023-06-26T15:28:46.885Z"
   },
   {
    "duration": 13,
    "start_time": "2023-06-26T15:28:54.681Z"
   },
   {
    "duration": 20,
    "start_time": "2023-06-26T15:29:15.529Z"
   },
   {
    "duration": 18,
    "start_time": "2023-06-26T15:29:23.667Z"
   },
   {
    "duration": 13,
    "start_time": "2023-06-26T15:29:33.024Z"
   },
   {
    "duration": 12,
    "start_time": "2023-06-26T15:29:38.739Z"
   },
   {
    "duration": 13,
    "start_time": "2023-06-26T15:29:48.918Z"
   },
   {
    "duration": 11,
    "start_time": "2023-06-26T15:30:37.066Z"
   },
   {
    "duration": 14,
    "start_time": "2023-06-26T15:31:18.895Z"
   },
   {
    "duration": 15,
    "start_time": "2023-06-26T15:31:30.412Z"
   },
   {
    "duration": 15,
    "start_time": "2023-06-26T15:47:18.539Z"
   },
   {
    "duration": 13,
    "start_time": "2023-06-26T15:51:27.306Z"
   },
   {
    "duration": 11,
    "start_time": "2023-06-26T15:51:35.383Z"
   },
   {
    "duration": 5,
    "start_time": "2023-06-26T15:58:16.632Z"
   },
   {
    "duration": 40,
    "start_time": "2023-06-26T15:58:22.498Z"
   },
   {
    "duration": 19,
    "start_time": "2023-06-26T15:58:29.853Z"
   },
   {
    "duration": 231,
    "start_time": "2023-06-26T15:58:39.841Z"
   },
   {
    "duration": 20,
    "start_time": "2023-06-26T15:59:25.622Z"
   },
   {
    "duration": 200,
    "start_time": "2023-06-26T15:59:53.928Z"
   },
   {
    "duration": 258,
    "start_time": "2023-06-26T16:00:03.992Z"
   },
   {
    "duration": 199,
    "start_time": "2023-06-26T16:00:24.427Z"
   },
   {
    "duration": 204,
    "start_time": "2023-06-26T16:00:51.921Z"
   },
   {
    "duration": 209,
    "start_time": "2023-06-26T16:00:59.157Z"
   },
   {
    "duration": 218,
    "start_time": "2023-06-26T16:01:08.567Z"
   },
   {
    "duration": 228,
    "start_time": "2023-06-26T16:01:19.745Z"
   },
   {
    "duration": 260,
    "start_time": "2023-06-26T16:01:31.173Z"
   },
   {
    "duration": 7,
    "start_time": "2023-06-26T16:01:54.971Z"
   },
   {
    "duration": 21,
    "start_time": "2023-06-26T16:01:58.527Z"
   },
   {
    "duration": 193,
    "start_time": "2023-06-26T16:02:08.633Z"
   },
   {
    "duration": 364,
    "start_time": "2023-06-26T16:03:51.270Z"
   },
   {
    "duration": 258,
    "start_time": "2023-06-26T16:04:05.351Z"
   },
   {
    "duration": 255,
    "start_time": "2023-06-26T16:04:48.422Z"
   },
   {
    "duration": 261,
    "start_time": "2023-06-26T16:10:11.461Z"
   },
   {
    "duration": 267,
    "start_time": "2023-06-26T16:10:27.378Z"
   },
   {
    "duration": 287,
    "start_time": "2023-06-26T16:18:59.703Z"
   },
   {
    "duration": 266,
    "start_time": "2023-06-26T16:24:10.870Z"
   },
   {
    "duration": 341,
    "start_time": "2023-06-26T16:24:21.932Z"
   },
   {
    "duration": 404,
    "start_time": "2023-06-26T16:25:19.531Z"
   },
   {
    "duration": 278,
    "start_time": "2023-06-26T16:26:22.281Z"
   },
   {
    "duration": 230,
    "start_time": "2023-06-26T16:27:09.529Z"
   },
   {
    "duration": 333,
    "start_time": "2023-06-26T16:27:14.391Z"
   },
   {
    "duration": 272,
    "start_time": "2023-06-26T16:27:17.494Z"
   },
   {
    "duration": 408,
    "start_time": "2023-06-26T16:28:16.089Z"
   },
   {
    "duration": 306,
    "start_time": "2023-06-26T16:28:33.863Z"
   },
   {
    "duration": 293,
    "start_time": "2023-06-26T16:28:48.883Z"
   },
   {
    "duration": 328,
    "start_time": "2023-06-26T16:28:56.852Z"
   },
   {
    "duration": 287,
    "start_time": "2023-06-26T16:29:03.763Z"
   },
   {
    "duration": 288,
    "start_time": "2023-06-26T16:29:11.140Z"
   },
   {
    "duration": 293,
    "start_time": "2023-06-26T16:29:15.078Z"
   },
   {
    "duration": 371,
    "start_time": "2023-06-26T16:29:27.353Z"
   },
   {
    "duration": 337,
    "start_time": "2023-06-26T16:29:39.246Z"
   },
   {
    "duration": 419,
    "start_time": "2023-06-26T16:30:02.052Z"
   },
   {
    "duration": 290,
    "start_time": "2023-06-26T16:30:37.651Z"
   },
   {
    "duration": 335,
    "start_time": "2023-06-26T16:31:19.360Z"
   },
   {
    "duration": 302,
    "start_time": "2023-06-26T16:31:22.780Z"
   },
   {
    "duration": 384,
    "start_time": "2023-06-26T16:31:41.366Z"
   },
   {
    "duration": 496,
    "start_time": "2023-06-26T16:31:48.879Z"
   },
   {
    "duration": 64,
    "start_time": "2023-06-26T16:34:03.133Z"
   },
   {
    "duration": 6,
    "start_time": "2023-06-26T16:34:06.625Z"
   },
   {
    "duration": 465,
    "start_time": "2023-06-26T16:34:15.578Z"
   },
   {
    "duration": 355,
    "start_time": "2023-06-26T16:34:29.741Z"
   },
   {
    "duration": 405,
    "start_time": "2023-06-26T16:34:33.497Z"
   },
   {
    "duration": 376,
    "start_time": "2023-06-26T16:34:43.270Z"
   },
   {
    "duration": 352,
    "start_time": "2023-06-26T16:34:53.662Z"
   },
   {
    "duration": 512,
    "start_time": "2023-06-26T16:35:01.037Z"
   },
   {
    "duration": 298,
    "start_time": "2023-06-26T16:35:15.092Z"
   },
   {
    "duration": 296,
    "start_time": "2023-06-26T16:35:19.698Z"
   },
   {
    "duration": 395,
    "start_time": "2023-06-26T16:35:34.099Z"
   },
   {
    "duration": 403,
    "start_time": "2023-06-26T16:35:51.699Z"
   },
   {
    "duration": 334,
    "start_time": "2023-06-26T16:36:00.779Z"
   },
   {
    "duration": 344,
    "start_time": "2023-06-26T16:36:07.307Z"
   },
   {
    "duration": 107,
    "start_time": "2023-06-26T16:37:12.288Z"
   },
   {
    "duration": 342,
    "start_time": "2023-06-26T16:37:14.583Z"
   },
   {
    "duration": 375,
    "start_time": "2023-06-26T16:37:29.617Z"
   },
   {
    "duration": 357,
    "start_time": "2023-06-26T16:37:40.547Z"
   },
   {
    "duration": 347,
    "start_time": "2023-06-26T16:37:47.950Z"
   },
   {
    "duration": 383,
    "start_time": "2023-06-26T16:40:50.268Z"
   },
   {
    "duration": 1294,
    "start_time": "2023-06-26T16:46:00.812Z"
   },
   {
    "duration": 82,
    "start_time": "2023-06-26T16:46:02.109Z"
   },
   {
    "duration": 4,
    "start_time": "2023-06-26T16:46:02.193Z"
   },
   {
    "duration": 98,
    "start_time": "2023-06-26T16:46:02.199Z"
   },
   {
    "duration": 11,
    "start_time": "2023-06-26T16:46:02.299Z"
   },
   {
    "duration": 57,
    "start_time": "2023-06-26T16:46:02.312Z"
   },
   {
    "duration": 32,
    "start_time": "2023-06-26T16:46:02.371Z"
   },
   {
    "duration": 55,
    "start_time": "2023-06-26T16:46:02.405Z"
   },
   {
    "duration": 40,
    "start_time": "2023-06-26T16:46:02.462Z"
   },
   {
    "duration": 53,
    "start_time": "2023-06-26T16:46:02.504Z"
   },
   {
    "duration": 43,
    "start_time": "2023-06-26T16:46:02.558Z"
   },
   {
    "duration": 35,
    "start_time": "2023-06-26T16:46:02.603Z"
   },
   {
    "duration": 27,
    "start_time": "2023-06-26T16:46:02.640Z"
   },
   {
    "duration": 26,
    "start_time": "2023-06-26T16:46:02.672Z"
   },
   {
    "duration": 28,
    "start_time": "2023-06-26T16:46:02.700Z"
   },
   {
    "duration": 36,
    "start_time": "2023-06-26T16:46:02.731Z"
   },
   {
    "duration": 38,
    "start_time": "2023-06-26T16:46:02.769Z"
   },
   {
    "duration": 37,
    "start_time": "2023-06-26T16:46:02.809Z"
   },
   {
    "duration": 311,
    "start_time": "2023-06-26T16:46:02.848Z"
   },
   {
    "duration": 257,
    "start_time": "2023-06-26T16:46:03.161Z"
   },
   {
    "duration": 19,
    "start_time": "2023-06-26T16:46:03.420Z"
   },
   {
    "duration": 221,
    "start_time": "2023-06-26T16:46:03.441Z"
   },
   {
    "duration": 17,
    "start_time": "2023-06-26T16:46:03.665Z"
   },
   {
    "duration": 30,
    "start_time": "2023-06-26T16:46:03.685Z"
   },
   {
    "duration": 386,
    "start_time": "2023-06-26T16:46:03.718Z"
   },
   {
    "duration": 275,
    "start_time": "2023-06-26T16:46:04.109Z"
   },
   {
    "duration": 395,
    "start_time": "2023-06-26T16:46:04.386Z"
   },
   {
    "duration": 316,
    "start_time": "2023-06-26T16:46:04.783Z"
   },
   {
    "duration": 403,
    "start_time": "2023-06-26T16:46:05.101Z"
   },
   {
    "duration": 22,
    "start_time": "2023-06-26T16:46:05.511Z"
   },
   {
    "duration": 146,
    "start_time": "2023-06-26T16:46:05.536Z"
   },
   {
    "duration": 151,
    "start_time": "2023-06-26T16:46:05.684Z"
   },
   {
    "duration": 5,
    "start_time": "2023-06-26T16:46:05.837Z"
   },
   {
    "duration": 193,
    "start_time": "2023-06-26T16:46:05.844Z"
   },
   {
    "duration": 283,
    "start_time": "2023-06-26T16:46:06.040Z"
   },
   {
    "duration": 4,
    "start_time": "2023-06-26T16:46:06.325Z"
   },
   {
    "duration": 268,
    "start_time": "2023-06-26T16:46:06.331Z"
   },
   {
    "duration": 178,
    "start_time": "2023-06-26T16:46:06.609Z"
   },
   {
    "duration": 9,
    "start_time": "2023-06-26T16:46:06.789Z"
   },
   {
    "duration": 209,
    "start_time": "2023-06-26T16:46:06.809Z"
   },
   {
    "duration": 14,
    "start_time": "2023-06-26T16:46:07.023Z"
   },
   {
    "duration": 45,
    "start_time": "2023-06-26T16:46:07.039Z"
   },
   {
    "duration": 119,
    "start_time": "2023-06-26T16:46:07.086Z"
   },
   {
    "duration": 253,
    "start_time": "2023-06-26T16:46:07.207Z"
   },
   {
    "duration": 133,
    "start_time": "2023-06-26T16:46:07.463Z"
   },
   {
    "duration": 164,
    "start_time": "2023-06-26T17:04:44.628Z"
   },
   {
    "duration": 214,
    "start_time": "2023-06-26T17:05:54.667Z"
   },
   {
    "duration": 84,
    "start_time": "2023-06-26T17:09:53.914Z"
   },
   {
    "duration": 14,
    "start_time": "2023-06-26T17:10:04.783Z"
   },
   {
    "duration": 405,
    "start_time": "2023-06-26T17:26:00.112Z"
   },
   {
    "duration": 12,
    "start_time": "2023-06-26T17:27:45.412Z"
   },
   {
    "duration": 58,
    "start_time": "2023-06-26T17:29:15.393Z"
   },
   {
    "duration": 27,
    "start_time": "2023-06-26T17:29:22.857Z"
   },
   {
    "duration": 12,
    "start_time": "2023-06-26T17:34:13.438Z"
   },
   {
    "duration": 6,
    "start_time": "2023-06-26T17:40:30.504Z"
   },
   {
    "duration": 7,
    "start_time": "2023-06-26T17:40:35.695Z"
   },
   {
    "duration": 7,
    "start_time": "2023-06-26T17:40:39.175Z"
   },
   {
    "duration": 7,
    "start_time": "2023-06-26T17:40:43.456Z"
   },
   {
    "duration": 7,
    "start_time": "2023-06-26T17:40:48.335Z"
   },
   {
    "duration": 5,
    "start_time": "2023-06-26T17:40:56.693Z"
   },
   {
    "duration": 14,
    "start_time": "2023-06-26T17:41:54.273Z"
   },
   {
    "duration": 16,
    "start_time": "2023-06-26T17:42:21.710Z"
   },
   {
    "duration": 13,
    "start_time": "2023-06-26T17:42:34.943Z"
   },
   {
    "duration": 17,
    "start_time": "2023-06-26T17:49:31.807Z"
   },
   {
    "duration": 1285,
    "start_time": "2023-06-26T17:51:00.614Z"
   },
   {
    "duration": 97,
    "start_time": "2023-06-26T17:51:01.901Z"
   },
   {
    "duration": 3,
    "start_time": "2023-06-26T17:51:02.001Z"
   },
   {
    "duration": 79,
    "start_time": "2023-06-26T17:51:02.006Z"
   },
   {
    "duration": 4,
    "start_time": "2023-06-26T17:51:02.087Z"
   },
   {
    "duration": 111,
    "start_time": "2023-06-26T17:51:02.093Z"
   },
   {
    "duration": 39,
    "start_time": "2023-06-26T17:51:02.206Z"
   },
   {
    "duration": 29,
    "start_time": "2023-06-26T17:51:02.247Z"
   },
   {
    "duration": 56,
    "start_time": "2023-06-26T17:51:02.278Z"
   },
   {
    "duration": 69,
    "start_time": "2023-06-26T17:51:02.338Z"
   },
   {
    "duration": 31,
    "start_time": "2023-06-26T17:51:02.409Z"
   },
   {
    "duration": 40,
    "start_time": "2023-06-26T17:51:02.442Z"
   },
   {
    "duration": 45,
    "start_time": "2023-06-26T17:51:02.485Z"
   },
   {
    "duration": 56,
    "start_time": "2023-06-26T17:51:02.532Z"
   },
   {
    "duration": 42,
    "start_time": "2023-06-26T17:51:02.590Z"
   },
   {
    "duration": 87,
    "start_time": "2023-06-26T17:51:02.634Z"
   },
   {
    "duration": 33,
    "start_time": "2023-06-26T17:51:02.723Z"
   },
   {
    "duration": 46,
    "start_time": "2023-06-26T17:51:02.758Z"
   },
   {
    "duration": 47,
    "start_time": "2023-06-26T17:51:02.806Z"
   },
   {
    "duration": 254,
    "start_time": "2023-06-26T17:51:02.855Z"
   },
   {
    "duration": 13,
    "start_time": "2023-06-26T17:51:03.111Z"
   },
   {
    "duration": 165,
    "start_time": "2023-06-26T17:51:03.126Z"
   },
   {
    "duration": 30,
    "start_time": "2023-06-26T17:51:03.292Z"
   },
   {
    "duration": 45,
    "start_time": "2023-06-26T17:51:03.324Z"
   },
   {
    "duration": 377,
    "start_time": "2023-06-26T17:51:03.371Z"
   },
   {
    "duration": 273,
    "start_time": "2023-06-26T17:51:03.750Z"
   },
   {
    "duration": 362,
    "start_time": "2023-06-26T17:51:04.025Z"
   },
   {
    "duration": 336,
    "start_time": "2023-06-26T17:51:04.390Z"
   },
   {
    "duration": 360,
    "start_time": "2023-06-26T17:51:04.728Z"
   },
   {
    "duration": 19,
    "start_time": "2023-06-26T17:51:05.090Z"
   },
   {
    "duration": 136,
    "start_time": "2023-06-26T17:51:05.111Z"
   },
   {
    "duration": 132,
    "start_time": "2023-06-26T17:51:05.249Z"
   },
   {
    "duration": 6,
    "start_time": "2023-06-26T17:51:05.383Z"
   },
   {
    "duration": 165,
    "start_time": "2023-06-26T17:51:05.410Z"
   },
   {
    "duration": 265,
    "start_time": "2023-06-26T17:51:05.576Z"
   },
   {
    "duration": 5,
    "start_time": "2023-06-26T17:51:05.844Z"
   },
   {
    "duration": 306,
    "start_time": "2023-06-26T17:51:05.853Z"
   },
   {
    "duration": 152,
    "start_time": "2023-06-26T17:51:06.161Z"
   },
   {
    "duration": 8,
    "start_time": "2023-06-26T17:51:06.315Z"
   },
   {
    "duration": 188,
    "start_time": "2023-06-26T17:51:06.325Z"
   },
   {
    "duration": 14,
    "start_time": "2023-06-26T17:51:06.515Z"
   },
   {
    "duration": 28,
    "start_time": "2023-06-26T17:51:06.532Z"
   },
   {
    "duration": 46,
    "start_time": "2023-06-26T17:51:06.567Z"
   },
   {
    "duration": 30,
    "start_time": "2023-06-26T17:51:06.615Z"
   },
   {
    "duration": 16,
    "start_time": "2023-06-26T17:51:06.648Z"
   },
   {
    "duration": 1047,
    "start_time": "2023-06-26T20:16:49.743Z"
   },
   {
    "duration": 84,
    "start_time": "2023-06-26T20:16:50.792Z"
   },
   {
    "duration": 3,
    "start_time": "2023-06-26T20:16:50.877Z"
   },
   {
    "duration": 73,
    "start_time": "2023-06-26T20:16:50.882Z"
   },
   {
    "duration": 3,
    "start_time": "2023-06-26T20:16:50.957Z"
   },
   {
    "duration": 8,
    "start_time": "2023-06-26T20:16:50.961Z"
   },
   {
    "duration": 17,
    "start_time": "2023-06-26T20:16:50.971Z"
   },
   {
    "duration": 41,
    "start_time": "2023-06-26T20:16:50.989Z"
   },
   {
    "duration": 18,
    "start_time": "2023-06-26T20:16:51.031Z"
   },
   {
    "duration": 22,
    "start_time": "2023-06-26T20:16:51.050Z"
   },
   {
    "duration": 9,
    "start_time": "2023-06-26T20:16:51.074Z"
   },
   {
    "duration": 9,
    "start_time": "2023-06-26T20:16:51.085Z"
   },
   {
    "duration": 43,
    "start_time": "2023-06-26T20:16:51.096Z"
   },
   {
    "duration": 17,
    "start_time": "2023-06-26T20:16:51.143Z"
   },
   {
    "duration": 24,
    "start_time": "2023-06-26T20:16:51.161Z"
   },
   {
    "duration": 9,
    "start_time": "2023-06-26T20:16:51.187Z"
   },
   {
    "duration": 29,
    "start_time": "2023-06-26T20:16:51.197Z"
   },
   {
    "duration": 13,
    "start_time": "2023-06-26T20:16:51.228Z"
   },
   {
    "duration": 23,
    "start_time": "2023-06-26T20:16:51.242Z"
   },
   {
    "duration": 177,
    "start_time": "2023-06-26T20:16:51.266Z"
   },
   {
    "duration": 11,
    "start_time": "2023-06-26T20:16:51.444Z"
   },
   {
    "duration": 136,
    "start_time": "2023-06-26T20:16:51.456Z"
   },
   {
    "duration": 18,
    "start_time": "2023-06-26T20:16:51.594Z"
   },
   {
    "duration": 15,
    "start_time": "2023-06-26T20:16:51.613Z"
   },
   {
    "duration": 342,
    "start_time": "2023-06-26T20:16:51.630Z"
   },
   {
    "duration": 274,
    "start_time": "2023-06-26T20:16:51.973Z"
   },
   {
    "duration": 334,
    "start_time": "2023-06-26T20:16:52.248Z"
   },
   {
    "duration": 294,
    "start_time": "2023-06-26T20:16:52.583Z"
   },
   {
    "duration": 377,
    "start_time": "2023-06-26T20:16:52.878Z"
   },
   {
    "duration": 10,
    "start_time": "2023-06-26T20:16:53.257Z"
   },
   {
    "duration": 144,
    "start_time": "2023-06-26T20:16:53.268Z"
   },
   {
    "duration": 114,
    "start_time": "2023-06-26T20:16:53.414Z"
   },
   {
    "duration": 5,
    "start_time": "2023-06-26T20:16:53.529Z"
   },
   {
    "duration": 151,
    "start_time": "2023-06-26T20:16:53.536Z"
   },
   {
    "duration": 189,
    "start_time": "2023-06-26T20:16:53.689Z"
   },
   {
    "duration": 5,
    "start_time": "2023-06-26T20:16:53.880Z"
   },
   {
    "duration": 247,
    "start_time": "2023-06-26T20:16:53.887Z"
   },
   {
    "duration": 145,
    "start_time": "2023-06-26T20:16:54.136Z"
   },
   {
    "duration": 26,
    "start_time": "2023-06-26T20:16:54.283Z"
   },
   {
    "duration": 189,
    "start_time": "2023-06-26T20:16:54.316Z"
   },
   {
    "duration": 14,
    "start_time": "2023-06-26T20:16:54.510Z"
   },
   {
    "duration": 12,
    "start_time": "2023-06-26T20:16:54.525Z"
   },
   {
    "duration": 32,
    "start_time": "2023-06-26T20:16:54.538Z"
   },
   {
    "duration": 41,
    "start_time": "2023-06-26T20:16:54.572Z"
   },
   {
    "duration": 16,
    "start_time": "2023-06-26T20:16:54.616Z"
   },
   {
    "duration": 47,
    "start_time": "2023-08-13T09:42:59.887Z"
   },
   {
    "duration": 1223,
    "start_time": "2023-08-22T10:54:47.969Z"
   },
   {
    "duration": 209,
    "start_time": "2023-08-22T10:54:49.195Z"
   },
   {
    "duration": 4,
    "start_time": "2023-08-22T10:54:49.406Z"
   },
   {
    "duration": 67,
    "start_time": "2023-08-22T10:54:49.412Z"
   },
   {
    "duration": 3,
    "start_time": "2023-08-22T10:54:49.481Z"
   },
   {
    "duration": 18,
    "start_time": "2023-08-22T10:54:49.486Z"
   },
   {
    "duration": 16,
    "start_time": "2023-08-22T10:54:49.506Z"
   },
   {
    "duration": 35,
    "start_time": "2023-08-22T10:54:49.523Z"
   },
   {
    "duration": 10,
    "start_time": "2023-08-22T10:54:49.561Z"
   },
   {
    "duration": 28,
    "start_time": "2023-08-22T10:54:49.572Z"
   },
   {
    "duration": 9,
    "start_time": "2023-08-22T10:54:49.602Z"
   },
   {
    "duration": 6,
    "start_time": "2023-08-22T10:54:49.613Z"
   },
   {
    "duration": 41,
    "start_time": "2023-08-22T10:54:49.621Z"
   },
   {
    "duration": 13,
    "start_time": "2023-08-22T10:54:49.667Z"
   },
   {
    "duration": 9,
    "start_time": "2023-08-22T10:54:49.681Z"
   },
   {
    "duration": 7,
    "start_time": "2023-08-22T10:54:49.691Z"
   },
   {
    "duration": 7,
    "start_time": "2023-08-22T10:54:49.700Z"
   },
   {
    "duration": 12,
    "start_time": "2023-08-22T10:54:49.708Z"
   },
   {
    "duration": 48,
    "start_time": "2023-08-22T10:54:49.722Z"
   },
   {
    "duration": 165,
    "start_time": "2023-08-22T10:54:49.772Z"
   },
   {
    "duration": 19,
    "start_time": "2023-08-22T10:54:49.939Z"
   },
   {
    "duration": 132,
    "start_time": "2023-08-22T10:54:49.960Z"
   },
   {
    "duration": 11,
    "start_time": "2023-08-22T10:54:50.093Z"
   },
   {
    "duration": 44,
    "start_time": "2023-08-22T10:54:50.105Z"
   },
   {
    "duration": 353,
    "start_time": "2023-08-22T10:54:50.151Z"
   },
   {
    "duration": 256,
    "start_time": "2023-08-22T10:54:50.505Z"
   },
   {
    "duration": 356,
    "start_time": "2023-08-22T10:54:50.764Z"
   },
   {
    "duration": 324,
    "start_time": "2023-08-22T10:54:51.121Z"
   },
   {
    "duration": 545,
    "start_time": "2023-08-22T10:54:51.447Z"
   },
   {
    "duration": 9,
    "start_time": "2023-08-22T10:54:51.993Z"
   },
   {
    "duration": 298,
    "start_time": "2023-08-22T10:54:52.003Z"
   },
   {
    "duration": 272,
    "start_time": "2023-08-22T10:54:52.303Z"
   },
   {
    "duration": 4,
    "start_time": "2023-08-22T10:54:52.577Z"
   },
   {
    "duration": 314,
    "start_time": "2023-08-22T10:54:52.583Z"
   },
   {
    "duration": 477,
    "start_time": "2023-08-22T10:54:52.899Z"
   },
   {
    "duration": 5,
    "start_time": "2023-08-22T10:54:53.377Z"
   },
   {
    "duration": 356,
    "start_time": "2023-08-22T10:54:53.383Z"
   },
   {
    "duration": 158,
    "start_time": "2023-08-22T10:54:53.741Z"
   },
   {
    "duration": 6,
    "start_time": "2023-08-22T10:54:53.900Z"
   },
   {
    "duration": 171,
    "start_time": "2023-08-22T10:54:53.907Z"
   },
   {
    "duration": 11,
    "start_time": "2023-08-22T10:54:54.082Z"
   },
   {
    "duration": 20,
    "start_time": "2023-08-22T10:54:54.095Z"
   },
   {
    "duration": 15,
    "start_time": "2023-08-22T10:54:54.117Z"
   },
   {
    "duration": 66,
    "start_time": "2023-08-22T10:54:54.134Z"
   },
   {
    "duration": 65,
    "start_time": "2023-08-22T10:54:54.201Z"
   }
  ],
  "kernelspec": {
   "display_name": "Python 3 (ipykernel)",
   "language": "python",
   "name": "python3"
  },
  "language_info": {
   "codemirror_mode": {
    "name": "ipython",
    "version": 3
   },
   "file_extension": ".py",
   "mimetype": "text/x-python",
   "name": "python",
   "nbconvert_exporter": "python",
   "pygments_lexer": "ipython3",
   "version": "3.11.5"
  },
  "toc": {
   "base_numbering": 1,
   "nav_menu": {},
   "number_sections": true,
   "sideBar": true,
   "skip_h1_title": false,
   "title_cell": "Table of Contents",
   "title_sidebar": "Contents",
   "toc_cell": false,
   "toc_position": {
    "height": "calc(100% - 180px)",
    "left": "10px",
    "top": "150px",
    "width": "357.4px"
   },
   "toc_section_display": true,
   "toc_window_display": true
  }
 },
 "nbformat": 4,
 "nbformat_minor": 2
}
